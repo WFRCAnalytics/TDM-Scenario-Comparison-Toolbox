{
 "cells": [
  {
   "cell_type": "code",
   "execution_count": 41,
   "metadata": {},
   "outputs": [
    {
     "data": {
      "application/javascript": "(function(root) {\n  function now() {\n    return new Date();\n  }\n\n  var force = true;\n\n  if (typeof root._bokeh_onload_callbacks === \"undefined\" || force === true) {\n    root._bokeh_onload_callbacks = [];\n    root._bokeh_is_loading = undefined;\n  }\n\n  if (typeof (root._bokeh_timeout) === \"undefined\" || force === true) {\n    root._bokeh_timeout = Date.now() + 5000;\n    root._bokeh_failed_load = false;\n  }\n\n  function run_callbacks() {\n    try {\n      root._bokeh_onload_callbacks.forEach(function(callback) {\n        if (callback != null)\n          callback();\n      });\n    } finally {\n      delete root._bokeh_onload_callbacks\n    }\n    console.debug(\"Bokeh: all callbacks have finished\");\n  }\n\n  function load_libs(css_urls, js_urls, js_modules, callback) {\n    if (css_urls == null) css_urls = [];\n    if (js_urls == null) js_urls = [];\n    if (js_modules == null) js_modules = [];\n\n    root._bokeh_onload_callbacks.push(callback);\n    if (root._bokeh_is_loading > 0) {\n      console.debug(\"Bokeh: BokehJS is being loaded, scheduling callback at\", now());\n      return null;\n    }\n    if (js_urls.length === 0 && js_modules.length === 0) {\n      run_callbacks();\n      return null;\n    }\n    console.debug(\"Bokeh: BokehJS not loaded, scheduling load and callback at\", now());\n\n    function on_load() {\n      root._bokeh_is_loading--;\n      if (root._bokeh_is_loading === 0) {\n        console.debug(\"Bokeh: all BokehJS libraries/stylesheets loaded\");\n        run_callbacks()\n      }\n    }\n\n    function on_error() {\n      console.error(\"failed to load \" + url);\n    }\n\n    for (var i = 0; i < css_urls.length; i++) {\n      var url = css_urls[i];\n      const element = document.createElement(\"link\");\n      element.onload = on_load;\n      element.onerror = on_error;\n      element.rel = \"stylesheet\";\n      element.type = \"text/css\";\n      element.href = url;\n      console.debug(\"Bokeh: injecting link tag for BokehJS stylesheet: \", url);\n      document.body.appendChild(element);\n    }\n\n    var skip = [];\n    if (window.requirejs) {\n      window.requirejs.config({'packages': {}, 'paths': {'gridstack': 'https://cdn.jsdelivr.net/npm/gridstack@4.2.5/dist/gridstack-h5', 'notyf': 'https://cdn.jsdelivr.net/npm/notyf@3/notyf.min'}, 'shim': {'gridstack': {'exports': 'GridStack'}}});\n      require([\"gridstack\"], function(GridStack) {\n\twindow.GridStack = GridStack\n\ton_load()\n      })\n      require([\"notyf\"], function() {\n\ton_load()\n      })\n      root._bokeh_is_loading = css_urls.length + 2;\n    } else {\n      root._bokeh_is_loading = css_urls.length + js_urls.length + js_modules.length;\n    }    if (((window['GridStack'] !== undefined) && (!(window['GridStack'] instanceof HTMLElement))) || window.requirejs) {\n      var urls = ['https://cdn.holoviz.org/panel/0.14.0-rc.2/dist/bundled/gridstack/gridstack@4.2.5/dist/gridstack-h5.js'];\n      for (var i = 0; i < urls.length; i++) {\n        skip.push(urls[i])\n      }\n    }    if (((window['Notyf'] !== undefined) && (!(window['Notyf'] instanceof HTMLElement))) || window.requirejs) {\n      var urls = ['https://cdn.holoviz.org/panel/0.14.0-rc.2/dist/bundled/notificationarea/notyf@3/notyf.min.js'];\n      for (var i = 0; i < urls.length; i++) {\n        skip.push(urls[i])\n      }\n    }    for (var i = 0; i < js_urls.length; i++) {\n      var url = js_urls[i];\n      if (skip.indexOf(url) >= 0) {\n\tif (!window.requirejs) {\n\t  on_load();\n\t}\n\tcontinue;\n      }\n      var element = document.createElement('script');\n      element.onload = on_load;\n      element.onerror = on_error;\n      element.async = false;\n      element.src = url;\n      console.debug(\"Bokeh: injecting script tag for BokehJS library: \", url);\n      document.head.appendChild(element);\n    }\n    for (var i = 0; i < js_modules.length; i++) {\n      var url = js_modules[i];\n      if (skip.indexOf(url) >= 0) {\n\tif (!window.requirejs) {\n\t  on_load();\n\t}\n\tcontinue;\n      }\n      var element = document.createElement('script');\n      element.onload = on_load;\n      element.onerror = on_error;\n      element.async = false;\n      element.src = url;\n      element.type = \"module\";\n      console.debug(\"Bokeh: injecting script tag for BokehJS library: \", url);\n      document.head.appendChild(element);\n    }\n    if (!js_urls.length && !js_modules.length) {\n      on_load()\n    }\n  };\n\n  function inject_raw_css(css) {\n    const element = document.createElement(\"style\");\n    element.appendChild(document.createTextNode(css));\n    document.body.appendChild(element);\n  }\n\n  var js_urls = [\"https://cdn.bokeh.org/bokeh/release/bokeh-2.4.3.min.js\", \"https://cdn.bokeh.org/bokeh/release/bokeh-gl-2.4.3.min.js\", \"https://cdn.bokeh.org/bokeh/release/bokeh-widgets-2.4.3.min.js\", \"https://cdn.bokeh.org/bokeh/release/bokeh-tables-2.4.3.min.js\", \"https://cdn.bokeh.org/bokeh/release/bokeh-mathjax-2.4.3.min.js\", \"https://cdn.holoviz.org/panel/0.14.0-rc.2/dist/bundled/notificationarea/notyf@3/notyf.min.js\", \"https://unpkg.com/@holoviz/panel@0.14.0-rc.2/dist/panel.js\"];\n  var js_modules = [];\n  var css_urls = [\"https://cdn.holoviz.org/panel/0.14.0-rc.2/dist/bundled/notificationarea/notyf@3/notyf.min.css\", \"https://cdn.holoviz.org/panel/0.14.0-rc.2/dist/bundled/font-awesome/css/all.min.css\", \"https://cdn.holoviz.org/panel/0.14.0-rc.2/dist/css/alerts.css\", \"https://cdn.holoviz.org/panel/0.14.0-rc.2/dist/css/card.css\", \"https://cdn.holoviz.org/panel/0.14.0-rc.2/dist/css/dataframe.css\", \"https://cdn.holoviz.org/panel/0.14.0-rc.2/dist/css/debugger.css\", \"https://cdn.holoviz.org/panel/0.14.0-rc.2/dist/css/json.css\", \"https://cdn.holoviz.org/panel/0.14.0-rc.2/dist/css/loading.css\", \"https://cdn.holoviz.org/panel/0.14.0-rc.2/dist/css/markdown.css\", \"https://cdn.holoviz.org/panel/0.14.0-rc.2/dist/css/widgets.css\"];\n  var inline_js = [    function(Bokeh) {\n      inject_raw_css(\"\\n    .bk.pn-loading.arcs:before {\\n      background-image: url(\\\"data:image/svg+xml;base64,PHN2ZyB4bWxucz0iaHR0cDovL3d3dy53My5vcmcvMjAwMC9zdmciIHhtbG5zOnhsaW5rPSJodHRwOi8vd3d3LnczLm9yZy8xOTk5L3hsaW5rIiBzdHlsZT0ibWFyZ2luOiBhdXRvOyBiYWNrZ3JvdW5kOiBub25lOyBkaXNwbGF5OiBibG9jazsgc2hhcGUtcmVuZGVyaW5nOiBhdXRvOyIgdmlld0JveD0iMCAwIDEwMCAxMDAiIHByZXNlcnZlQXNwZWN0UmF0aW89InhNaWRZTWlkIj4gIDxjaXJjbGUgY3g9IjUwIiBjeT0iNTAiIHI9IjMyIiBzdHJva2Utd2lkdGg9IjgiIHN0cm9rZT0iI2MzYzNjMyIgc3Ryb2tlLWRhc2hhcnJheT0iNTAuMjY1NDgyNDU3NDM2NjkgNTAuMjY1NDgyNDU3NDM2NjkiIGZpbGw9Im5vbmUiIHN0cm9rZS1saW5lY2FwPSJyb3VuZCI+ICAgIDxhbmltYXRlVHJhbnNmb3JtIGF0dHJpYnV0ZU5hbWU9InRyYW5zZm9ybSIgdHlwZT0icm90YXRlIiByZXBlYXRDb3VudD0iaW5kZWZpbml0ZSIgZHVyPSIxcyIga2V5VGltZXM9IjA7MSIgdmFsdWVzPSIwIDUwIDUwOzM2MCA1MCA1MCI+PC9hbmltYXRlVHJhbnNmb3JtPiAgPC9jaXJjbGU+PC9zdmc+\\\");\\n      background-size: auto calc(min(50%, 400px));\\n    }\\n    \");\n    },    function(Bokeh) {\n      Bokeh.set_log_level(\"info\");\n    },\nfunction(Bokeh) {} // ensure no trailing comma for IE\n  ];\n\n  function run_inline_js() {\n    if ((root.Bokeh !== undefined) || (force === true)) {\n      for (var i = 0; i < inline_js.length; i++) {\n        inline_js[i].call(root, root.Bokeh);\n      }} else if (Date.now() < root._bokeh_timeout) {\n      setTimeout(run_inline_js, 100);\n    } else if (!root._bokeh_failed_load) {\n      console.log(\"Bokeh: BokehJS failed to load within specified timeout.\");\n      root._bokeh_failed_load = true;\n    }\n  }\n\n  if (root._bokeh_is_loading === 0) {\n    console.debug(\"Bokeh: BokehJS loaded, going straight to plotting\");\n    run_inline_js();\n  } else {\n    load_libs(css_urls, js_urls, js_modules, function() {\n      console.debug(\"Bokeh: BokehJS plotting callback run at\", now());\n      run_inline_js();\n    });\n  }\n}(window));",
      "application/vnd.holoviews_load.v0+json": ""
     },
     "metadata": {},
     "output_type": "display_data"
    },
    {
     "data": {
      "application/javascript": "\nif ((window.PyViz === undefined) || (window.PyViz instanceof HTMLElement)) {\n  window.PyViz = {comms: {}, comm_status:{}, kernels:{}, receivers: {}, plot_index: []}\n}\n\n\n    function JupyterCommManager() {\n    }\n\n    JupyterCommManager.prototype.register_target = function(plot_id, comm_id, msg_handler) {\n      if (window.comm_manager || ((window.Jupyter !== undefined) && (Jupyter.notebook.kernel != null))) {\n        var comm_manager = window.comm_manager || Jupyter.notebook.kernel.comm_manager;\n        comm_manager.register_target(comm_id, function(comm) {\n          comm.on_msg(msg_handler);\n        });\n      } else if ((plot_id in window.PyViz.kernels) && (window.PyViz.kernels[plot_id])) {\n        window.PyViz.kernels[plot_id].registerCommTarget(comm_id, function(comm) {\n          comm.onMsg = msg_handler;\n        });\n      } else if (typeof google != 'undefined' && google.colab.kernel != null) {\n        google.colab.kernel.comms.registerTarget(comm_id, (comm) => {\n          var messages = comm.messages[Symbol.asyncIterator]();\n          function processIteratorResult(result) {\n            var message = result.value;\n            console.log(message)\n            var content = {data: message.data, comm_id};\n            var buffers = []\n            for (var buffer of message.buffers || []) {\n              buffers.push(new DataView(buffer))\n            }\n            var metadata = message.metadata || {};\n            var msg = {content, buffers, metadata}\n            msg_handler(msg);\n            return messages.next().then(processIteratorResult);\n          }\n          return messages.next().then(processIteratorResult);\n        })\n      }\n    }\n\n    JupyterCommManager.prototype.get_client_comm = function(plot_id, comm_id, msg_handler) {\n      if (comm_id in window.PyViz.comms) {\n        return window.PyViz.comms[comm_id];\n      } else if (window.comm_manager || ((window.Jupyter !== undefined) && (Jupyter.notebook.kernel != null))) {\n        var comm_manager = window.comm_manager || Jupyter.notebook.kernel.comm_manager;\n        var comm = comm_manager.new_comm(comm_id, {}, {}, {}, comm_id);\n        if (msg_handler) {\n          comm.on_msg(msg_handler);\n        }\n      } else if ((plot_id in window.PyViz.kernels) && (window.PyViz.kernels[plot_id])) {\n        var comm = window.PyViz.kernels[plot_id].connectToComm(comm_id);\n        comm.open();\n        if (msg_handler) {\n          comm.onMsg = msg_handler;\n        }\n      } else if (typeof google != 'undefined' && google.colab.kernel != null) {\n        var comm_promise = google.colab.kernel.comms.open(comm_id)\n        comm_promise.then((comm) => {\n          window.PyViz.comms[comm_id] = comm;\n          if (msg_handler) {\n            var messages = comm.messages[Symbol.asyncIterator]();\n            function processIteratorResult(result) {\n              var message = result.value;\n              var content = {data: message.data};\n              var metadata = message.metadata || {comm_id};\n              var msg = {content, metadata}\n              msg_handler(msg);\n              return messages.next().then(processIteratorResult);\n            }\n            return messages.next().then(processIteratorResult);\n          }\n        }) \n        var sendClosure = (data, metadata, buffers, disposeOnDone) => {\n          return comm_promise.then((comm) => {\n            comm.send(data, metadata, buffers, disposeOnDone);\n          });\n        };\n        var comm = {\n          send: sendClosure\n        };\n      }\n      window.PyViz.comms[comm_id] = comm;\n      return comm;\n    }\n    window.PyViz.comm_manager = new JupyterCommManager();\n    \n\n\nvar JS_MIME_TYPE = 'application/javascript';\nvar HTML_MIME_TYPE = 'text/html';\nvar EXEC_MIME_TYPE = 'application/vnd.holoviews_exec.v0+json';\nvar CLASS_NAME = 'output';\n\n/**\n * Render data to the DOM node\n */\nfunction render(props, node) {\n  var div = document.createElement(\"div\");\n  var script = document.createElement(\"script\");\n  node.appendChild(div);\n  node.appendChild(script);\n}\n\n/**\n * Handle when a new output is added\n */\nfunction handle_add_output(event, handle) {\n  var output_area = handle.output_area;\n  var output = handle.output;\n  if ((output.data == undefined) || (!output.data.hasOwnProperty(EXEC_MIME_TYPE))) {\n    return\n  }\n  var id = output.metadata[EXEC_MIME_TYPE][\"id\"];\n  var toinsert = output_area.element.find(\".\" + CLASS_NAME.split(' ')[0]);\n  if (id !== undefined) {\n    var nchildren = toinsert.length;\n    var html_node = toinsert[nchildren-1].children[0];\n    html_node.innerHTML = output.data[HTML_MIME_TYPE];\n    var scripts = [];\n    var nodelist = html_node.querySelectorAll(\"script\");\n    for (var i in nodelist) {\n      if (nodelist.hasOwnProperty(i)) {\n        scripts.push(nodelist[i])\n      }\n    }\n\n    scripts.forEach( function (oldScript) {\n      var newScript = document.createElement(\"script\");\n      var attrs = [];\n      var nodemap = oldScript.attributes;\n      for (var j in nodemap) {\n        if (nodemap.hasOwnProperty(j)) {\n          attrs.push(nodemap[j])\n        }\n      }\n      attrs.forEach(function(attr) { newScript.setAttribute(attr.name, attr.value) });\n      newScript.appendChild(document.createTextNode(oldScript.innerHTML));\n      oldScript.parentNode.replaceChild(newScript, oldScript);\n    });\n    if (JS_MIME_TYPE in output.data) {\n      toinsert[nchildren-1].children[1].textContent = output.data[JS_MIME_TYPE];\n    }\n    output_area._hv_plot_id = id;\n    if ((window.Bokeh !== undefined) && (id in Bokeh.index)) {\n      window.PyViz.plot_index[id] = Bokeh.index[id];\n    } else {\n      window.PyViz.plot_index[id] = null;\n    }\n  } else if (output.metadata[EXEC_MIME_TYPE][\"server_id\"] !== undefined) {\n    var bk_div = document.createElement(\"div\");\n    bk_div.innerHTML = output.data[HTML_MIME_TYPE];\n    var script_attrs = bk_div.children[0].attributes;\n    for (var i = 0; i < script_attrs.length; i++) {\n      toinsert[toinsert.length - 1].childNodes[1].setAttribute(script_attrs[i].name, script_attrs[i].value);\n    }\n    // store reference to server id on output_area\n    output_area._bokeh_server_id = output.metadata[EXEC_MIME_TYPE][\"server_id\"];\n  }\n}\n\n/**\n * Handle when an output is cleared or removed\n */\nfunction handle_clear_output(event, handle) {\n  var id = handle.cell.output_area._hv_plot_id;\n  var server_id = handle.cell.output_area._bokeh_server_id;\n  if (((id === undefined) || !(id in PyViz.plot_index)) && (server_id !== undefined)) { return; }\n  var comm = window.PyViz.comm_manager.get_client_comm(\"hv-extension-comm\", \"hv-extension-comm\", function () {});\n  if (server_id !== null) {\n    comm.send({event_type: 'server_delete', 'id': server_id});\n    return;\n  } else if (comm !== null) {\n    comm.send({event_type: 'delete', 'id': id});\n  }\n  delete PyViz.plot_index[id];\n  if ((window.Bokeh !== undefined) & (id in window.Bokeh.index)) {\n    var doc = window.Bokeh.index[id].model.document\n    doc.clear();\n    const i = window.Bokeh.documents.indexOf(doc);\n    if (i > -1) {\n      window.Bokeh.documents.splice(i, 1);\n    }\n  }\n}\n\n/**\n * Handle kernel restart event\n */\nfunction handle_kernel_cleanup(event, handle) {\n  delete PyViz.comms[\"hv-extension-comm\"];\n  window.PyViz.plot_index = {}\n}\n\n/**\n * Handle update_display_data messages\n */\nfunction handle_update_output(event, handle) {\n  handle_clear_output(event, {cell: {output_area: handle.output_area}})\n  handle_add_output(event, handle)\n}\n\nfunction register_renderer(events, OutputArea) {\n  function append_mime(data, metadata, element) {\n    // create a DOM node to render to\n    var toinsert = this.create_output_subarea(\n    metadata,\n    CLASS_NAME,\n    EXEC_MIME_TYPE\n    );\n    this.keyboard_manager.register_events(toinsert);\n    // Render to node\n    var props = {data: data, metadata: metadata[EXEC_MIME_TYPE]};\n    render(props, toinsert[0]);\n    element.append(toinsert);\n    return toinsert\n  }\n\n  events.on('output_added.OutputArea', handle_add_output);\n  events.on('output_updated.OutputArea', handle_update_output);\n  events.on('clear_output.CodeCell', handle_clear_output);\n  events.on('delete.Cell', handle_clear_output);\n  events.on('kernel_ready.Kernel', handle_kernel_cleanup);\n\n  OutputArea.prototype.register_mime_type(EXEC_MIME_TYPE, append_mime, {\n    safe: true,\n    index: 0\n  });\n}\n\nif (window.Jupyter !== undefined) {\n  try {\n    var events = require('base/js/events');\n    var OutputArea = require('notebook/js/outputarea').OutputArea;\n    if (OutputArea.prototype.mime_types().indexOf(EXEC_MIME_TYPE) == -1) {\n      register_renderer(events, OutputArea);\n    }\n  } catch(err) {\n  }\n}\n",
      "application/vnd.holoviews_load.v0+json": ""
     },
     "metadata": {},
     "output_type": "display_data"
    },
    {
     "data": {
      "text/html": [
       "<style>.bk-root, .bk-root .bk:before, .bk-root .bk:after {\n",
       "  font-family: var(--jp-ui-font-size1);\n",
       "  font-size: var(--jp-ui-font-size1);\n",
       "  color: var(--jp-ui-font-color1);\n",
       "}\n",
       "</style>"
      ]
     },
     "metadata": {},
     "output_type": "display_data"
    }
   ],
   "source": [
    "import geopandas as gpd\n",
    "import folium as fm\n",
    "import pandas as pd\n",
    "import param\n",
    "import panel as pn\n",
    "import random\n",
    "pn.extension(sizing_mode=\"stretch_width\")"
   ]
  },
  {
   "attachments": {},
   "cell_type": "markdown",
   "metadata": {},
   "source": [
    "### Summary Statistics using Maps"
   ]
  },
  {
   "cell_type": "code",
   "execution_count": 42,
   "metadata": {},
   "outputs": [
    {
     "data": {
      "text/html": [
       "<div>\n",
       "<style scoped>\n",
       "    .dataframe tbody tr th:only-of-type {\n",
       "        vertical-align: middle;\n",
       "    }\n",
       "\n",
       "    .dataframe tbody tr th {\n",
       "        vertical-align: top;\n",
       "    }\n",
       "\n",
       "    .dataframe thead th {\n",
       "        text-align: right;\n",
       "    }\n",
       "</style>\n",
       "<table border=\"1\" class=\"dataframe\">\n",
       "  <thead>\n",
       "    <tr style=\"text-align: right;\">\n",
       "      <th></th>\n",
       "      <th>Id</th>\n",
       "      <th>SEGID</th>\n",
       "      <th>BMP</th>\n",
       "      <th>EMP</th>\n",
       "      <th>DISTANCE</th>\n",
       "      <th>FULLNAME</th>\n",
       "      <th>FNCLASS</th>\n",
       "      <th>FC_CODE</th>\n",
       "      <th>FC_GROUP</th>\n",
       "      <th>FC_NAME</th>\n",
       "      <th>...</th>\n",
       "      <th>FAC_MAX</th>\n",
       "      <th>FACMANADJ</th>\n",
       "      <th>SUTRUCKS</th>\n",
       "      <th>CUTRUCKS</th>\n",
       "      <th>F2050</th>\n",
       "      <th>F2040</th>\n",
       "      <th>FORNOTES</th>\n",
       "      <th>ForecastSo</th>\n",
       "      <th>Shape_Leng</th>\n",
       "      <th>geometry</th>\n",
       "    </tr>\n",
       "  </thead>\n",
       "  <tbody>\n",
       "    <tr>\n",
       "      <th>0</th>\n",
       "      <td>0</td>\n",
       "      <td>0006_000.0</td>\n",
       "      <td>0.000</td>\n",
       "      <td>0.665</td>\n",
       "      <td>0.666641</td>\n",
       "      <td>HWY 6</td>\n",
       "      <td>Arterial</td>\n",
       "      <td>3</td>\n",
       "      <td>Arterial</td>\n",
       "      <td>Other Principal Arterial</td>\n",
       "      <td>...</td>\n",
       "      <td>1.1065</td>\n",
       "      <td>0</td>\n",
       "      <td>0.2496</td>\n",
       "      <td>0.2324</td>\n",
       "      <td>600</td>\n",
       "      <td>550</td>\n",
       "      <td>None</td>\n",
       "      <td>Utah_Statewide_Traffic_Volume_Historic_and_For...</td>\n",
       "      <td>1072.856212</td>\n",
       "      <td>LINESTRING (236177.700 4327541.250, 237241.180...</td>\n",
       "    </tr>\n",
       "    <tr>\n",
       "      <th>1</th>\n",
       "      <td>0</td>\n",
       "      <td>0006_000.7</td>\n",
       "      <td>0.665</td>\n",
       "      <td>16.022</td>\n",
       "      <td>15.369839</td>\n",
       "      <td>HWY 6</td>\n",
       "      <td>Arterial</td>\n",
       "      <td>3</td>\n",
       "      <td>Arterial</td>\n",
       "      <td>Other Principal Arterial</td>\n",
       "      <td>...</td>\n",
       "      <td>1.1065</td>\n",
       "      <td>0</td>\n",
       "      <td>0.2496</td>\n",
       "      <td>0.2324</td>\n",
       "      <td>550</td>\n",
       "      <td>500</td>\n",
       "      <td>None</td>\n",
       "      <td>Utah_Statewide_Traffic_Volume_Historic_and_For...</td>\n",
       "      <td>24735.407823</td>\n",
       "      <td>LINESTRING (237241.180 4327399.720, 238150.600...</td>\n",
       "    </tr>\n",
       "    <tr>\n",
       "      <th>2</th>\n",
       "      <td>0</td>\n",
       "      <td>0006_016.0</td>\n",
       "      <td>16.022</td>\n",
       "      <td>46.017</td>\n",
       "      <td>30.001961</td>\n",
       "      <td>HWY 6</td>\n",
       "      <td>Arterial</td>\n",
       "      <td>3</td>\n",
       "      <td>Arterial</td>\n",
       "      <td>Other Principal Arterial</td>\n",
       "      <td>...</td>\n",
       "      <td>1.1065</td>\n",
       "      <td>0</td>\n",
       "      <td>0.2496</td>\n",
       "      <td>0.2324</td>\n",
       "      <td>550</td>\n",
       "      <td>500</td>\n",
       "      <td>None</td>\n",
       "      <td>Utah_Statewide_Traffic_Volume_Historic_and_For...</td>\n",
       "      <td>48283.572122</td>\n",
       "      <td>LINESTRING (261403.900 4327045.400, 261409.000...</td>\n",
       "    </tr>\n",
       "    <tr>\n",
       "      <th>3</th>\n",
       "      <td>0</td>\n",
       "      <td>0006_046.0</td>\n",
       "      <td>46.017</td>\n",
       "      <td>60.218</td>\n",
       "      <td>14.194306</td>\n",
       "      <td>HWY 6</td>\n",
       "      <td>Arterial</td>\n",
       "      <td>3</td>\n",
       "      <td>Arterial</td>\n",
       "      <td>Other Principal Arterial</td>\n",
       "      <td>...</td>\n",
       "      <td>1.1065</td>\n",
       "      <td>0</td>\n",
       "      <td>0.1751</td>\n",
       "      <td>0.3338</td>\n",
       "      <td>500</td>\n",
       "      <td>450</td>\n",
       "      <td>None</td>\n",
       "      <td>Utah_Statewide_Traffic_Volume_Historic_and_For...</td>\n",
       "      <td>22843.567118</td>\n",
       "      <td>LINESTRING (305380.160 4325741.850, 305784.500...</td>\n",
       "    </tr>\n",
       "    <tr>\n",
       "      <th>4</th>\n",
       "      <td>0</td>\n",
       "      <td>0006_060.2</td>\n",
       "      <td>60.218</td>\n",
       "      <td>77.545</td>\n",
       "      <td>17.323237</td>\n",
       "      <td>HWY 6</td>\n",
       "      <td>Arterial</td>\n",
       "      <td>3</td>\n",
       "      <td>Arterial</td>\n",
       "      <td>Other Principal Arterial</td>\n",
       "      <td>...</td>\n",
       "      <td>1.1065</td>\n",
       "      <td>0</td>\n",
       "      <td>0.1751</td>\n",
       "      <td>0.3338</td>\n",
       "      <td>500</td>\n",
       "      <td>450</td>\n",
       "      <td>None</td>\n",
       "      <td>Utah_Statewide_Traffic_Volume_Historic_and_For...</td>\n",
       "      <td>27879.103631</td>\n",
       "      <td>LINESTRING (324618.000 4337936.900, 324647.400...</td>\n",
       "    </tr>\n",
       "  </tbody>\n",
       "</table>\n",
       "<p>5 rows × 95 columns</p>\n",
       "</div>"
      ],
      "text/plain": [
       "   Id       SEGID     BMP     EMP   DISTANCE FULLNAME   FNCLASS  FC_CODE  \\\n",
       "0   0  0006_000.0   0.000   0.665   0.666641    HWY 6  Arterial        3   \n",
       "1   0  0006_000.7   0.665  16.022  15.369839    HWY 6  Arterial        3   \n",
       "2   0  0006_016.0  16.022  46.017  30.001961    HWY 6  Arterial        3   \n",
       "3   0  0006_046.0  46.017  60.218  14.194306    HWY 6  Arterial        3   \n",
       "4   0  0006_060.2  60.218  77.545  17.323237    HWY 6  Arterial        3   \n",
       "\n",
       "   FC_GROUP                   FC_NAME  ...  FAC_MAX FACMANADJ SUTRUCKS  \\\n",
       "0  Arterial  Other Principal Arterial  ...   1.1065         0   0.2496   \n",
       "1  Arterial  Other Principal Arterial  ...   1.1065         0   0.2496   \n",
       "2  Arterial  Other Principal Arterial  ...   1.1065         0   0.2496   \n",
       "3  Arterial  Other Principal Arterial  ...   1.1065         0   0.1751   \n",
       "4  Arterial  Other Principal Arterial  ...   1.1065         0   0.1751   \n",
       "\n",
       "   CUTRUCKS  F2050 F2040 FORNOTES  \\\n",
       "0    0.2324    600   550     None   \n",
       "1    0.2324    550   500     None   \n",
       "2    0.2324    550   500     None   \n",
       "3    0.3338    500   450     None   \n",
       "4    0.3338    500   450     None   \n",
       "\n",
       "                                          ForecastSo    Shape_Leng  \\\n",
       "0  Utah_Statewide_Traffic_Volume_Historic_and_For...   1072.856212   \n",
       "1  Utah_Statewide_Traffic_Volume_Historic_and_For...  24735.407823   \n",
       "2  Utah_Statewide_Traffic_Volume_Historic_and_For...  48283.572122   \n",
       "3  Utah_Statewide_Traffic_Volume_Historic_and_For...  22843.567118   \n",
       "4  Utah_Statewide_Traffic_Volume_Historic_and_For...  27879.103631   \n",
       "\n",
       "                                            geometry  \n",
       "0  LINESTRING (236177.700 4327541.250, 237241.180...  \n",
       "1  LINESTRING (237241.180 4327399.720, 238150.600...  \n",
       "2  LINESTRING (261403.900 4327045.400, 261409.000...  \n",
       "3  LINESTRING (305380.160 4325741.850, 305784.500...  \n",
       "4  LINESTRING (324618.000 4337936.900, 324647.400...  \n",
       "\n",
       "[5 rows x 95 columns]"
      ]
     },
     "execution_count": 42,
     "metadata": {},
     "output_type": "execute_result"
    }
   ],
   "source": [
    "\n",
    "\n",
    "# read segment shapefile into spatial enabled dataframe\n",
    "dirSegShp = r'A:\\1 - TDM\\1 - Input Dev\\6 - Segment\\0 - Segment Shapefile\\Master_Segs_withFactors_20220915\\Master_Segs_withFactors_20220915shp.shp'\n",
    "segShp = gpd.read_file(dirSegShp)\n",
    "segShp.head()\n"
   ]
  },
  {
   "cell_type": "code",
   "execution_count": 43,
   "metadata": {},
   "outputs": [],
   "source": [
    "segShp.to_file('segShp.geojson', driver='GeoJSON')\n",
    "segShp = gpd.read_file('segShp.geojson')"
   ]
  },
  {
   "cell_type": "code",
   "execution_count": 63,
   "metadata": {},
   "outputs": [
    {
     "ename": "SyntaxError",
     "evalue": "keyword argument repeated: style_function (1650921837.py, line 6)",
     "output_type": "error",
     "traceback": [
      "\u001b[1;36m  File \u001b[1;32m\"C:\\Users\\bhereth\\AppData\\Local\\Temp\\ipykernel_10104\\1650921837.py\"\u001b[1;36m, line \u001b[1;32m6\u001b[0m\n\u001b[1;33m    fm.GeoJson(segShp, name=\"geojson\",\u001b[0m\n\u001b[1;37m      ^\u001b[0m\n\u001b[1;31mSyntaxError\u001b[0m\u001b[1;31m:\u001b[0m keyword argument repeated: style_function\n"
     ]
    }
   ],
   "source": [
    "m = fm.Map(\n",
    "    location=[40.7608, -111.8910],\n",
    "    tiles=\"cartodbpositron\",\n",
    "    zoom_start=9,\n",
    ")\n",
    "\n",
    "\n",
    "\n",
    "def style_function(feature):\n",
    "    volume = employed_series.get(int(feature[\"id\"][-5:]), None)\n",
    "    return {\n",
    "        \"fillOpacity\": 0.5,\n",
    "        \"weight\": 0,\n",
    "        \"fillColor\": \"#black\" if employed is None else colorscale(employed),\n",
    "    }\n",
    "\n",
    "\n",
    "\n",
    "\n",
    "fm.GeoJson(segShp, name=\"geojson\",\n",
    "  style_function= lambda x :{'color':'blue' if x['properties']['F2050']>10000 \\\n",
    "       else 'orange' if 100000 <x['properties']['F2050']>1000000 else 'red'},\n",
    "\n",
    "m"
   ]
  },
  {
   "cell_type": "code",
   "execution_count": 36,
   "metadata": {},
   "outputs": [],
   "source": [
    "#dirSegShp = r'A:\\1 - TDM\\1 - Input Dev\\6 - Segment\\0 - Segment Shapefile\\Master_Segs_withFactors_20220915\\Master_Segs_withFactors_20220915shp.shp'\n",
    "\n",
    "#import into spatially-enabled DataFrame\n",
    "#sdf_Forecasts = pd.DataFrame.spatial.from_featureclass(dirSegShp)\n",
    "#sdf_Forecasts_short = sdf_Forecasts[['SEGID','SHAPE']]"
   ]
  },
  {
   "cell_type": "code",
   "execution_count": null,
   "metadata": {},
   "outputs": [],
   "source": [
    "#Define coordinates of where we want to center our map\n",
    "boulder_coords = [40.015, -105.2705]\n",
    "\n",
    "map_with_tiles = fm.Map(location = boulder_coords, tiles = 'cartodb positron')\n",
    "map_with_tiles\n",
    "#folium.PolyLine(segShp['geometry']).add_to(map_with_tiles)"
   ]
  },
  {
   "cell_type": "code",
   "execution_count": 37,
   "metadata": {},
   "outputs": [
    {
     "data": {
      "application/vnd.jupyter.widget-view+json": {
       "model_id": "9fabb750c94741139be4998b9968882c",
       "version_major": 2,
       "version_minor": 0
      },
      "text/plain": [
       "BokehModel(combine_events=True, render_bundle={'docs_json': {'de212126-6f2c-4173-a0fe-31b210411144': {'defs': …"
      ]
     },
     "execution_count": 37,
     "metadata": {},
     "output_type": "execute_result"
    }
   ],
   "source": [
    "def get_map(lat=40.7608, long=-111.8910, zoom_start=10):\n",
    "    return fm.Map(location=[lat,long], zoom_start=zoom_start)\n",
    "\n",
    "map = get_map()\n",
    "\n",
    "pn.panel(map, height=400)"
   ]
  },
  {
   "cell_type": "code",
   "execution_count": 30,
   "metadata": {},
   "outputs": [
    {
     "data": {
      "text/html": [
       "<div>\n",
       "<style scoped>\n",
       "    .dataframe tbody tr th:only-of-type {\n",
       "        vertical-align: middle;\n",
       "    }\n",
       "\n",
       "    .dataframe tbody tr th {\n",
       "        vertical-align: top;\n",
       "    }\n",
       "\n",
       "    .dataframe thead th {\n",
       "        text-align: right;\n",
       "    }\n",
       "</style>\n",
       "<table border=\"1\" class=\"dataframe\">\n",
       "  <thead>\n",
       "    <tr style=\"text-align: right;\">\n",
       "      <th></th>\n",
       "      <th>Latitude</th>\n",
       "      <th>Longitude</th>\n",
       "      <th>AQI</th>\n",
       "    </tr>\n",
       "  </thead>\n",
       "  <tbody>\n",
       "    <tr>\n",
       "      <th>28</th>\n",
       "      <td>40.148579</td>\n",
       "      <td>-112.197780</td>\n",
       "      <td>183.952573</td>\n",
       "    </tr>\n",
       "    <tr>\n",
       "      <th>29</th>\n",
       "      <td>40.132458</td>\n",
       "      <td>-111.659053</td>\n",
       "      <td>78.345260</td>\n",
       "    </tr>\n",
       "    <tr>\n",
       "      <th>17</th>\n",
       "      <td>39.728217</td>\n",
       "      <td>-112.351993</td>\n",
       "      <td>190.916952</td>\n",
       "    </tr>\n",
       "    <tr>\n",
       "      <th>31</th>\n",
       "      <td>40.007493</td>\n",
       "      <td>-112.156843</td>\n",
       "      <td>354.054648</td>\n",
       "    </tr>\n",
       "    <tr>\n",
       "      <th>20</th>\n",
       "      <td>39.927185</td>\n",
       "      <td>-111.225625</td>\n",
       "      <td>422.836726</td>\n",
       "    </tr>\n",
       "  </tbody>\n",
       "</table>\n",
       "</div>"
      ],
      "text/plain": [
       "     Latitude   Longitude         AQI\n",
       "28  40.148579 -112.197780  183.952573\n",
       "29  40.132458 -111.659053   78.345260\n",
       "17  39.728217 -112.351993  190.916952\n",
       "31  40.007493 -112.156843  354.054648\n",
       "20  39.927185 -111.225625  422.836726"
      ]
     },
     "execution_count": 30,
     "metadata": {},
     "output_type": "execute_result"
    }
   ],
   "source": [
    "def get_df_aqi(lat_bounds=(39.7,40.7), long_bounds=(-112.8,-110.8), points_count=40):\n",
    "    aqi = {\n",
    "        \"Latitude\": [random.uniform(*lat_bounds) for _ in range(0,points_count)],\n",
    "        \"Longitude\": [random.uniform(*long_bounds) for _ in range(0,points_count)],\n",
    "        \"AQI\": [random.uniform(0,500) for _ in range(0,points_count)],\n",
    "    }\n",
    "    return pd.DataFrame(aqi)\n",
    "\n",
    "df_aqi = get_df_aqi()\n",
    "df_aqi.sample(5)"
   ]
  },
  {
   "cell_type": "code",
   "execution_count": 39,
   "metadata": {},
   "outputs": [
    {
     "data": {
      "application/vnd.jupyter.widget-view+json": {
       "model_id": "5c08005d08164a6d89d1d82ac8929a7d",
       "version_major": 2,
       "version_minor": 0
      },
      "text/plain": [
       "BokehModel(combine_events=True, render_bundle={'docs_json': {'057176d1-2218-4e4c-9129-7035e3cd7906': {'defs': …"
      ]
     },
     "execution_count": 39,
     "metadata": {},
     "output_type": "execute_result"
    }
   ],
   "source": [
    "def add_aqi_circles(map, df_aqi):\n",
    "    green_p1  = fm.map.FeatureGroup()\n",
    "    yellow_p1 = fm.map.FeatureGroup()\n",
    "    orange_p1 = fm.map.FeatureGroup()\n",
    "    red_p1    = fm.map.FeatureGroup()\n",
    "    purple_p1 = fm.map.FeatureGroup()\n",
    "    maroon_p1 = fm.map.FeatureGroup()\n",
    "\n",
    "    for _, row in df_aqi.iterrows():\n",
    "        if row.AQI<50:\n",
    "            feature_group = green_p1\n",
    "            fill_color = \"green\"\n",
    "        elif row.AQI < 100:\n",
    "            feature_group = yellow_p1\n",
    "            fill_color = \"yellow\"\n",
    "        elif row.AQI < 150:\n",
    "            feature_group = orange_p1\n",
    "            fill_color = \"orange\"\n",
    "        elif row.AQI < 200:\n",
    "            feature_group = red_p1\n",
    "            fill_color = \"red\"\n",
    "        elif row.AQI < 300:\n",
    "            feature_group = purple_p1\n",
    "            fill_color='purple'\n",
    "        else:\n",
    "            feature_group = maroon_p1\n",
    "            fill_color = \"maroon\"\n",
    "\n",
    "        feature_group.add_child(\n",
    "            fm.CircleMarker(\n",
    "                [row.Latitude, row.Longitude],\n",
    "                radius=10, \n",
    "                fill=True,\n",
    "                fill_color=fill_color,\n",
    "                fill_opacity=0.7\n",
    "            )\n",
    "        )\n",
    "\n",
    "    map.add_child(green_p1)\n",
    "    map.add_child(yellow_p1)\n",
    "    map.add_child(orange_p1)\n",
    "    map.add_child(red_p1)\n",
    "    map.add_child(purple_p1)\n",
    "\n",
    "add_aqi_circles(map, df_aqi)\n",
    "fm.GeoJson(os.path.join('segShp.geojson')).add_to(map)\n",
    "pn.panel(map, height=400)"
   ]
  },
  {
   "cell_type": "code",
   "execution_count": 33,
   "metadata": {},
   "outputs": [
    {
     "data": {
      "application/vnd.jupyter.widget-view+json": {
       "model_id": "6f7a8b1d76b94a50b2825fba6f1b6fcd",
       "version_major": 2,
       "version_minor": 0
      },
      "text/plain": [
       "BokehModel(combine_events=True, render_bundle={'docs_json': {'d8c5902e-e93d-4f07-a1c0-46471ca51d76': {'defs': …"
      ]
     },
     "execution_count": 33,
     "metadata": {},
     "output_type": "execute_result"
    }
   ],
   "source": [
    "class PanelFoliumMap(param.Parameterized):\n",
    "    points_count = param.Integer(20, bounds=(10,100))\n",
    "        \n",
    "    def __init__(self, **params):\n",
    "        super().__init__(**params)\n",
    "        self.map = get_map()\n",
    "        self.folium_pane = pn.pane.plot.Folium(sizing_mode=\"stretch_both\", min_height=500, margin=0)    \n",
    "        self.view = pn.Column(\n",
    "            self.param.points_count,\n",
    "            self.folium_pane,\n",
    "            sizing_mode=\"stretch_both\", height=500\n",
    "        )\n",
    "        self._update_map()\n",
    "\n",
    "    @param.depends(\"points_count\", watch=True)\n",
    "    def _update_map(self):\n",
    "        self.map = get_map()\n",
    "        df_aqi = get_df_aqi(points_count=self.points_count)\n",
    "        add_aqi_circles(self.map, df_aqi)\n",
    "        self.folium_pane.object = self.map\n",
    "\n",
    "        \n",
    "app = PanelFoliumMap()\n",
    "app.view"
   ]
  }
 ],
 "metadata": {
  "kernelspec": {
   "display_name": "base",
   "language": "python",
   "name": "python3"
  },
  "language_info": {
   "codemirror_mode": {
    "name": "ipython",
    "version": 3
   },
   "file_extension": ".py",
   "mimetype": "text/x-python",
   "name": "python",
   "nbconvert_exporter": "python",
   "pygments_lexer": "ipython3",
   "version": "3.9.13 (main, Aug 25 2022, 23:51:50) [MSC v.1916 64 bit (AMD64)]"
  },
  "orig_nbformat": 4,
  "vscode": {
   "interpreter": {
    "hash": "4bb4605dfc804e0302ccd2292d0e6a4e9288eed266a860dfac34a70f30ea53a4"
   }
  }
 },
 "nbformat": 4,
 "nbformat_minor": 2
}
