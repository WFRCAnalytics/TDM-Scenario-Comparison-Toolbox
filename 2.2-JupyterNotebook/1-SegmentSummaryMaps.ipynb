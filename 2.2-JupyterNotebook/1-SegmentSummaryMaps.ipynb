{
 "cells": [
  {
   "cell_type": "code",
   "execution_count": null,
   "metadata": {},
   "outputs": [],
   "source": [
    "import folium\n",
    "import geopandas as gpd"
   ]
  },
  {
   "attachments": {},
   "cell_type": "markdown",
   "metadata": {},
   "source": [
    "### Summary Statistics using Maps"
   ]
  },
  {
   "cell_type": "code",
   "execution_count": null,
   "metadata": {},
   "outputs": [],
   "source": [
    "\n",
    "\n",
    "# read segment shapefile into spatial enabled dataframe\n",
    "dirSegShp = r'A:\\1 - TDM\\1 - Input Dev\\6 - Segment\\0 - Segment Shapefile\\Master_Segs_withFactors_20220915\\Master_Segs_withFactors_20220915shp.shp'\n",
    "segShp = gpd.read_file(dirSegShp)\n",
    "segShp.head()\n"
   ]
  },
  {
   "cell_type": "code",
   "execution_count": null,
   "metadata": {},
   "outputs": [],
   "source": [
    "segShp.to_file('segShp.geojson', driver='GeoJSON')\n",
    "segShp = gpd.read_file('segShp.geojson')"
   ]
  },
  {
   "cell_type": "code",
   "execution_count": null,
   "metadata": {},
   "outputs": [],
   "source": [
    "m = folium.Map(\n",
    "    location=[40.7608, -111.8910],\n",
    "    tiles=\"cartodbpositron\",\n",
    "    zoom_start=9,\n",
    ")\n",
    "folium.GeoJson(segShp, name=\"geojson\").add_to(m)\n",
    "m"
   ]
  },
  {
   "cell_type": "code",
   "execution_count": null,
   "metadata": {},
   "outputs": [],
   "source": [
    "#dirSegShp = r'A:\\1 - TDM\\1 - Input Dev\\6 - Segment\\0 - Segment Shapefile\\Master_Segs_withFactors_20220915\\Master_Segs_withFactors_20220915shp.shp'\n",
    "\n",
    "#import into spatially-enabled DataFrame\n",
    "#sdf_Forecasts = pd.DataFrame.spatial.from_featureclass(dirSegShp)\n",
    "#sdf_Forecasts_short = sdf_Forecasts[['SEGID','SHAPE']]"
   ]
  },
  {
   "cell_type": "code",
   "execution_count": null,
   "metadata": {},
   "outputs": [],
   "source": [
    "#Define coordinates of where we want to center our map\n",
    "boulder_coords = [40.015, -105.2705]\n",
    "\n",
    "map_with_tiles = folium.Map(location = boulder_coords, tiles = 'cartodb positron')\n",
    "map_with_tiles\n",
    "#folium.PolyLine(segShp['geometry']).add_to(map_with_tiles)"
   ]
  }
 ],
 "metadata": {
  "kernelspec": {
   "display_name": "Python 3",
   "language": "python",
   "name": "python3"
  },
  "language_info": {
   "name": "python",
   "version": "3.7.11 [MSC v.1927 64 bit (AMD64)]"
  },
  "orig_nbformat": 4,
  "vscode": {
   "interpreter": {
    "hash": "8048c095c4e40c75b1969fad420755f90ad26834507fe3172024f86f585c095c"
   }
  }
 },
 "nbformat": 4,
 "nbformat_minor": 2
}
