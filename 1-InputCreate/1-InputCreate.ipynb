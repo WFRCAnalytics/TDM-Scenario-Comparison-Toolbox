{
 "cells": [
  {
   "cell_type": "code",
   "execution_count": 2,
   "metadata": {},
   "outputs": [],
   "source": [
    "import os\n",
    "import pandas as pd\n",
    "import pandas_gbq\n",
    "import pytz\n",
    "import io\n",
    "from dbfread import DBF"
   ]
  },
  {
   "cell_type": "code",
   "execution_count": 3,
   "metadata": {},
   "outputs": [],
   "source": [
    "# import global TDM functions\n",
    "import sys\n",
    "sys.path.insert(0, '..\\..\\Resources\\Python-Functions')\n",
    "import BigQuery\n",
    "import TDM\n",
    "\n",
    "client = BigQuery.getBigQueryClient_TDMScenarios()\n"
   ]
  },
  {
   "attachments": {},
   "cell_type": "markdown",
   "metadata": {},
   "source": [
    "# Read all Scenario Outputs "
   ]
  },
  {
   "cell_type": "code",
   "execution_count": 17,
   "metadata": {},
   "outputs": [],
   "source": [
    "tdmVersions = pd.DataFrame([\n",
    "    [1, 1,'v832', 'WF TDM v8.3.2 - 2022-02-04a'        , '\\\\\\modelace\\\\ModelAce-E\\\\1 - TDM\\\\1 - Official Release (full run)\\\\v8.3.2\\\\WF TDM v8.3.2 - 2022-02-04a\\\\Scenarios'             ],\n",
    "    [1, 2,'v832', 'WF TDM v8.3.2 - 2022-09-21'         , '\\\\\\modelace\\\\ModelAce-E\\\\1 - TDM\\\\1 - Official Release (full run)\\\\v8.3.2\\\\WF TDM v8.3.2 - 2022-09-21\\\\Scenarios'              ],\n",
    "    [1, 3,'v9'  , 'WF TDM v9.0 - 2022-12-19'           , '\\\\\\modelace\\\\ModelAce-E\\\\1 - TDM\\\\2 - Sandbox\\\\v9_Development\\\\WF TDM v9.0 - 2022-12-19\\\\Scenarios'                            ],\n",
    "    [1, 4,'v9'  , 'WF TDM v9.0 - 2023-02-23-MCCalib-r0', r'A:\\1 - TDM\\3 - Model Dev\\1 - WF\\2 - Sandbox\\v9.0Beta\\_archive\\WF TDM v9.0 - 2023-02-23-MCCalib-r0\\Scenarios'                  ],\n",
    "    [1, 5,'v9'  , 'WF TDM v9.0 - 2023-02-23-MCCalib-r2', r'A:\\1 - TDM\\3 - Model Dev\\1 - WF\\2 - Sandbox\\v9.0Beta\\_archive\\WF TDM v9.0 - 2023-02-23-MCCalib-r2\\Scenarios'                  ],\n",
    "    [1, 6,'v832', 'WF TDM v8.3.2 - 2023-02-28'         , '\\\\\\modelace\\\\ModelAce-D\\\\1 - TDM\\\\3 - Model Dev\\\\1 - WF\\\\1 - Official Release\\\\v8.3.2\\\\WF TDM v8.3.2 - 2023-02-28\\\\Scenarios'  ],\n",
    "    [1, 7,'v9'  , 'WF TDM v9.0 - 2023-04-14'           , r'V:\\1 - TDM\\2 - Sandbox\\v9_Development\\WF TDM v9.0 - 2023-04-14\\Scenarios'                                                     ],\n",
    "    [1, 8,'v9'  , 'WF TDM v9.0 - 2023-04-28'           , r'V:\\1 - TDM\\2 - Sandbox\\v9_Development\\WF TDM v9.0 - 2023-04-28\\Scenarios'                                                     ],\n",
    "    [1, 9,'v9'  , 'WF TDM v9.0 - 2023-06-30'           , r'A:\\1 - TDM\\3 - Model Dev\\1 - WF\\1 - Official Release\\v9.0\\WF TDM v9.0 - 2023-06-30\\Scenarios'                                 ]\n",
    "], columns = (['PROCESS','tdmVersionID','tdmVersion', 'tdmVersionWithDate', 'dirTdmVersionScenarios']))\n",
    "\n",
    "segScenarios = pd.DataFrame([\n",
    "    [ 1,'BY_2019'        ,'BY'            , 2019],\n",
    "    [ 2,'BY_2023'        ,'BY'            , 2023],\n",
    "    [ 3,'EF_RTP_2032'    ,'EF_RTP'        , 2032],\n",
    "    [ 4,'EF_RTP_2042'    ,'EF_RTP'        , 2042],\n",
    "    [ 5,'EF_RTP_2050'    ,'EF_RTP'        , 2050],\n",
    "    [ 6,'Needs_2032'     ,'Needs'         , 2032],\n",
    "    [ 7,'Needs_2042'     ,'Needs'         , 2042],\n",
    "    [ 8,'Needs_2050'     ,'Needs'         , 2050],\n",
    "    [ 9,'NoBuild_2032'   ,'NoBuild'       , 2032],\n",
    "    [10,'NoBuild_2042'   ,'NoBuild'       , 2042],\n",
    "    [11,'NoBuild_2050'   ,'NoBuild'       , 2050],\n",
    "    [12,'RTP_2030'       ,'RTP'           , 2030],\n",
    "    [13,'RTP_2032'       ,'RTP'           , 2032],\n",
    "    [14,'RTP_2040'       ,'RTP'           , 2040],\n",
    "    [15,'RTP_2042'       ,'RTP'           , 2042],\n",
    "    [16,'RTP_2050'       ,'RTP'           , 2050],\n",
    "    [17,'TIP_2024'       ,'TIP'           , 2024],\n",
    "    [18,'TIP_2028'       ,'TIP'           , 2028]\n",
    "], columns = (['scenarioID','scenarioName','scenarioGroup','scenarioYear']))"
   ]
  },
  {
   "attachments": {},
   "cell_type": "markdown",
   "metadata": {},
   "source": [
    "# Merge all Scenario Outputs"
   ]
  },
  {
   "cell_type": "code",
   "execution_count": 18,
   "metadata": {},
   "outputs": [
    {
     "name": "stdout",
     "output_type": "stream",
     "text": [
      "1.01\n",
      "1.12\n",
      "1.14\n",
      "1.16\n",
      "1.17\n",
      "2.01\n",
      "2.02\n",
      "2.06\n",
      "2.07\n",
      "2.08\n",
      "2.09\n",
      "2.1\n",
      "2.11\n",
      "2.13\n",
      "2.15\n",
      "2.16\n",
      "2.18\n",
      "3.01\n",
      "3.02\n",
      "3.03\n",
      "3.04\n",
      "3.05\n",
      "3.06\n",
      "3.07\n",
      "3.08\n",
      "3.09\n",
      "3.1\n",
      "3.11\n",
      "3.13\n",
      "3.15\n",
      "3.16\n",
      "3.18\n",
      "4.01\n",
      "5.01\n",
      "6.01\n",
      "6.02\n",
      "6.13\n",
      "6.15\n",
      "6.16\n",
      "6.18\n",
      "7.01\n",
      "7.02\n",
      "7.03\n",
      "7.04\n",
      "7.05\n",
      "7.09\n",
      "7.1\n",
      "7.11\n",
      "7.13\n",
      "7.15\n",
      "7.16\n",
      "7.18\n",
      "8.01\n",
      "8.02\n",
      "8.11\n",
      "8.13\n",
      "8.15\n",
      "8.16\n",
      "8.18\n",
      "9.01\n",
      "9.02\n",
      "9.06\n",
      "9.07\n",
      "9.08\n",
      "9.09\n",
      "9.1\n",
      "9.11\n",
      "9.13\n",
      "9.15\n",
      "9.16\n",
      "9.18\n"
     ]
    }
   ],
   "source": [
    "from pathlib import Path\n",
    "\n",
    "dirWork    = os.getcwd()\n",
    "\n",
    "dfSegSummaryMaster      = pd.DataFrame()\n",
    "dfTransitShareMaster    = pd.DataFrame()\n",
    "dfRouteSummaryMaster    = pd.DataFrame()\n",
    "dfSESummaryMaster       = pd.DataFrame()\n",
    "dfScenariosMaster       = pd.DataFrame()\n",
    "dfTransitODDetailMaster = pd.DataFrame()\n",
    "dfTransitPADetailMaster = pd.DataFrame()\n",
    "\n",
    "scenarioID = 0\n",
    "\n",
    "for index, rowT in tdmVersions.iterrows():\n",
    "\n",
    "    if rowT['PROCESS']:\n",
    "\n",
    "        _vID = rowT['tdmVersionID']\n",
    "\n",
    "        for index, rowS in segScenarios.iterrows():\n",
    "\n",
    "            # get scenario path\n",
    "            _scenarioPath = os.path.join(rowT['dirTdmVersionScenarios'], rowS['scenarioName'])\n",
    "\n",
    "            # check if scenario exists\n",
    "            #print(_scenarioPath)\n",
    "            if os.path.exists(_scenarioPath):\n",
    "                \n",
    "                try:\n",
    "                    \n",
    "                    _sID = rowS['scenarioID']\n",
    "\n",
    "                    # round wasn't keeping float at 2 decimals, and was doing weird stuff\n",
    "                    scenarioID = float(\"{:0.2f}\".format(_vID + (_sID / 100)))\n",
    "\n",
    "                    print(scenarioID)\n",
    "\n",
    "                    # get values from Control Center to use to create filenames for outputs\n",
    "                    _unloadednetprefix = TDM.getControlCenterValue(os.path.join(_scenarioPath, \"1ControlCenter.block\"),'UnloadedNetPrefix')\n",
    "                    _runid = TDM.getControlCenterValue(os.path.join(_scenarioPath, \"1ControlCenter.block\"),'RID')\n",
    "\n",
    "                    dfScenarios = pd.DataFrame([\n",
    "                        [scenarioID, rowT['tdmVersion'],rowT['tdmVersionWithDate'], rowS['scenarioName'], rowS['scenarioGroup'], rowS['scenarioYear']]\n",
    "                    ], columns = (['scenarioID','tdmVersion','tdmVersionWithDate','scenarioName','scenarioGroup','scenarioYear']))\n",
    "                    dfScenariosMaster = pd.concat([dfScenariosMaster, dfScenarios])\n",
    "                    \n",
    "                    try:\n",
    "                        # get and join all segment summaries\n",
    "                        dirSegSummary = _scenarioPath + '\\\\5_AssignHwy\\\\4_Summaries\\\\' + _unloadednetprefix + '_Summary_SEGID.csv'\n",
    "                        if Path(dirSegSummary).is_file():\n",
    "                            # file exists\n",
    "                            dfSegSummary = pd.read_csv(dirSegSummary)\n",
    "                            dfSegSummary['scenarioID'] = scenarioID\n",
    "                            dfSegSummary.insert(0, 'scenarioID', dfSegSummary.pop('scenarioID')) # move scenario id to first column\n",
    "                            dfSegSummaryMaster = pd.concat([dfSegSummaryMaster, dfSegSummary])\n",
    "                                \n",
    "                    except FileNotFoundError as f:\n",
    "                        print(f)\n",
    "\n",
    "                    try:\n",
    "                        # get and join all transit route tables\n",
    "                        dirRouteSummary = _scenarioPath + '\\\\4_ModeChoice\\\\3_TransitAssign\\\\_' + _runid + '_1_PA_Route.dbf'\n",
    "                        if Path(dirRouteSummary).is_file():\n",
    "                            # file exists\n",
    "                            dfRouteSummary = pd.DataFrame(DBF(dirRouteSummary, load=True))\n",
    "                            dfRouteSummary['scenarioID'] = scenarioID\n",
    "                            dfRouteSummary.insert(0, 'scenarioID', dfRouteSummary.pop('scenarioID')) # move scenario id to first column\n",
    "                            dfRouteSummaryMaster = pd.concat([dfRouteSummaryMaster, dfRouteSummary])\n",
    "                        \n",
    "                    except FileNotFoundError as f:\n",
    "                        print(f)\n",
    "\n",
    "                    try:\n",
    "                        # get and join all se input tables\n",
    "                        dirSESummary = _scenarioPath + '\\\\0_InputProcessing\\\\SE_File_' + _runid + '.dbf'\n",
    "                        if Path(dirSESummary).is_file():\n",
    "                            # file exists    \n",
    "                            dfSESummary = pd.DataFrame(DBF(dirSESummary, load=True))\n",
    "                            dfSESummary['scenarioID'] = scenarioID\n",
    "                            dfSESummary.insert(0, 'scenarioID', dfSESummary.pop('scenarioID')) # move scenario id to first column\n",
    "                            dfSESummaryMaster = pd.concat([dfSESummaryMaster, dfSESummary])\n",
    "\n",
    "                    except FileNotFoundError as f:\n",
    "                        print(f)\n",
    "\n",
    "                    try:\n",
    "                        # get and join all transit share data\n",
    "                        dirTransitShare = _scenarioPath + '\\\\4_ModeChoice\\\\4_Shares\\\\_Shares_Summary_long.csv'\n",
    "                        if Path(dirTransitShare).is_file():\n",
    "                            # file exists    \n",
    "                            dfTransitShare = pd.read_csv(dirTransitShare)\n",
    "                            dfTransitShare['scenarioID'] = scenarioID\n",
    "                            dfTransitShare.insert(0, 'scenarioID', dfTransitShare.pop('scenarioID')) # move scenario id to first column\n",
    "                            dfTransitShareMaster = pd.concat([dfTransitShareMaster, dfTransitShare])\n",
    "\n",
    "                    except FileNotFoundError as f:\n",
    "                        print(f)\n",
    "\n",
    "                    try:\n",
    "                        # get and join all transit share data\n",
    "                        dirTransitODDetail = _scenarioPath + '\\\\4_ModeChoice\\\\3_TransitAssign\\\\_' + _runid + '_2_OD_Station_Detail.dbf'\n",
    "                        if Path(dirTransitODDetail).is_file():\n",
    "                            # file exists  \n",
    "                            dfTransitODDetail = pd.DataFrame(DBF(dirTransitODDetail, load=True))\n",
    "                            dfTransitODDetail['scenarioID'] = scenarioID\n",
    "                            dfTransitODDetail.insert(0, 'scenarioID', dfTransitODDetail.pop('scenarioID')) # move scenario id to first column\n",
    "                            dfTransitODDetailMaster = pd.concat([dfTransitODDetailMaster, dfTransitODDetail])\n",
    "                        \n",
    "                    except FileNotFoundError as f:\n",
    "                        print(f)\n",
    "\n",
    "                    try:\n",
    "                        # get and join all transit share data\n",
    "                        dirTransitPADetail = _scenarioPath + '\\\\4_ModeChoice\\\\3_TransitAssign\\\\_' + _runid + '_1_PA_Station.dbf'\n",
    "                        if Path(dirTransitPADetail).is_file():\n",
    "                            # file exists  \n",
    "                            dfTransitPADetail = pd.DataFrame(DBF(dirTransitPADetail, load=True))\n",
    "                            dfTransitPADetail['scenarioID'] = scenarioID\n",
    "                            dfTransitPADetail.insert(0, 'scenarioID', dfTransitPADetail.pop('scenarioID')) # move scenario id to first column\n",
    "                            dfTransitPADetailMaster = pd.concat([dfTransitPADetailMaster, dfTransitPADetail])\n",
    "                        \n",
    "                    except FileNotFoundError as f:\n",
    "                        print(f)\n",
    "\n",
    "                except FileNotFoundError as f:\n",
    "                    print(f)\n",
    "                    continue\n"
   ]
  },
  {
   "cell_type": "code",
   "execution_count": 19,
   "metadata": {},
   "outputs": [
    {
     "data": {
      "text/html": [
       "<div>\n",
       "<style scoped>\n",
       "    .dataframe tbody tr th:only-of-type {\n",
       "        vertical-align: middle;\n",
       "    }\n",
       "\n",
       "    .dataframe tbody tr th {\n",
       "        vertical-align: top;\n",
       "    }\n",
       "\n",
       "    .dataframe thead th {\n",
       "        text-align: right;\n",
       "    }\n",
       "</style>\n",
       "<table border=\"1\" class=\"dataframe\">\n",
       "  <thead>\n",
       "    <tr style=\"text-align: right;\">\n",
       "      <th></th>\n",
       "      <th>scenarioID</th>\n",
       "      <th>TOTBRD</th>\n",
       "    </tr>\n",
       "  </thead>\n",
       "  <tbody>\n",
       "    <tr>\n",
       "      <th>0</th>\n",
       "      <td>1.01</td>\n",
       "      <td>156823.33</td>\n",
       "    </tr>\n",
       "    <tr>\n",
       "      <th>1</th>\n",
       "      <td>1.12</td>\n",
       "      <td>226920.53</td>\n",
       "    </tr>\n",
       "    <tr>\n",
       "      <th>2</th>\n",
       "      <td>1.14</td>\n",
       "      <td>276078.01</td>\n",
       "    </tr>\n",
       "    <tr>\n",
       "      <th>3</th>\n",
       "      <td>1.16</td>\n",
       "      <td>348328.10</td>\n",
       "    </tr>\n",
       "    <tr>\n",
       "      <th>4</th>\n",
       "      <td>1.17</td>\n",
       "      <td>182874.82</td>\n",
       "    </tr>\n",
       "    <tr>\n",
       "      <th>...</th>\n",
       "      <td>...</td>\n",
       "      <td>...</td>\n",
       "    </tr>\n",
       "    <tr>\n",
       "      <th>65</th>\n",
       "      <td>9.11</td>\n",
       "      <td>308790.03</td>\n",
       "    </tr>\n",
       "    <tr>\n",
       "      <th>66</th>\n",
       "      <td>9.13</td>\n",
       "      <td>268321.09</td>\n",
       "    </tr>\n",
       "    <tr>\n",
       "      <th>67</th>\n",
       "      <td>9.15</td>\n",
       "      <td>357646.80</td>\n",
       "    </tr>\n",
       "    <tr>\n",
       "      <th>68</th>\n",
       "      <td>9.16</td>\n",
       "      <td>437792.22</td>\n",
       "    </tr>\n",
       "    <tr>\n",
       "      <th>69</th>\n",
       "      <td>9.18</td>\n",
       "      <td>205708.99</td>\n",
       "    </tr>\n",
       "  </tbody>\n",
       "</table>\n",
       "<p>70 rows × 2 columns</p>\n",
       "</div>"
      ],
      "text/plain": [
       "    scenarioID     TOTBRD\n",
       "0         1.01  156823.33\n",
       "1         1.12  226920.53\n",
       "2         1.14  276078.01\n",
       "3         1.16  348328.10\n",
       "4         1.17  182874.82\n",
       "..         ...        ...\n",
       "65        9.11  308790.03\n",
       "66        9.13  268321.09\n",
       "67        9.15  357646.80\n",
       "68        9.16  437792.22\n",
       "69        9.18  205708.99\n",
       "\n",
       "[70 rows x 2 columns]"
      ]
     },
     "execution_count": 19,
     "metadata": {},
     "output_type": "execute_result"
    }
   ],
   "source": [
    "dfTransitPADetailMaster.groupby(['scenarioID'],as_index=False).agg(TOTBRD = ('DY_BRDA','sum'))"
   ]
  },
  {
   "attachments": {},
   "cell_type": "markdown",
   "metadata": {},
   "source": [
    "# Create New Scenario Output Data as BigQuery Files"
   ]
  },
  {
   "cell_type": "code",
   "execution_count": 20,
   "metadata": {},
   "outputs": [
    {
     "name": "stderr",
     "output_type": "stream",
     "text": [
      "100%|██████████| 1/1 [00:00<?, ?it/s]\n",
      "100%|██████████| 1/1 [00:00<00:00, 1007.76it/s]\n",
      "100%|██████████| 1/1 [00:00<?, ?it/s]\n",
      "100%|██████████| 1/1 [00:00<?, ?it/s]\n",
      "100%|██████████| 1/1 [00:00<?, ?it/s]\n",
      "100%|██████████| 1/1 [00:00<00:00, 1045.96it/s]\n",
      "100%|██████████| 1/1 [00:00<?, ?it/s]\n"
     ]
    }
   ],
   "source": [
    "# create GBQ tables\n",
    "pandas_gbq.to_gbq(dfScenariosMaster      , 'tdm_scenarios_output.scenarios'      , project_id=\"tdm-scenarios\")\n",
    "pandas_gbq.to_gbq(dfSegSummaryMaster     , 'tdm_scenarios_output.segment_summary', project_id=\"tdm-scenarios\")\n",
    "pandas_gbq.to_gbq(dfTransitShareMaster   , 'tdm_scenarios_output.transit_share'  , project_id=\"tdm-scenarios\")\n",
    "pandas_gbq.to_gbq(dfRouteSummaryMaster   , 'tdm_scenarios_output.route_summary'  , project_id=\"tdm-scenarios\")\n",
    "pandas_gbq.to_gbq(dfSESummaryMaster      , 'tdm_scenarios_output.se_table'       , project_id=\"tdm-scenarios\")\n",
    "pandas_gbq.to_gbq(dfTransitODDetailMaster, 'tdm_scenarios_output.route_od_detail', project_id=\"tdm-scenarios\")\n",
    "pandas_gbq.to_gbq(dfTransitPADetailMaster, 'tdm_scenarios_output.route_pa_detail', project_id=\"tdm-scenarios\")\n"
   ]
  },
  {
   "attachments": {},
   "cell_type": "markdown",
   "metadata": {},
   "source": [
    "# Append New Scenario Output Data to BigQuery Files"
   ]
  },
  {
   "cell_type": "code",
   "execution_count": 13,
   "metadata": {},
   "outputs": [],
   "source": [
    "# functions\n",
    "def update_gbq_table(tableID, df):\n",
    "    #client.query(\"DELETE * FROM \" + tableID + \"WHERE scenarioID > 0\")\n",
    "    job_config = BigQuery.bigquery.LoadJobConfig(write_disposition=\"WRITE_TRUNCATE\",)\n",
    "     # Make an API request.\n",
    "    job = client.load_table_from_dataframe(\n",
    "        df, \n",
    "        tableID, \n",
    "        job_config\n",
    "    ) \n",
    "    # Wait for the job to complete.\n",
    "    job.result()\n",
    "\n",
    "def append_new_rows(tableID, df):\n",
    "    dfGBQ = client.query(\"SELECT * FROM \" + tableID).to_dataframe()\n",
    "    dfGBQList = list(set((dfGBQ.scenarioID.tolist())))\n",
    "    df2 = df[~(df.scenarioID.isin(dfGBQList))]\n",
    "    return(df2)"
   ]
  },
  {
   "cell_type": "code",
   "execution_count": 14,
   "metadata": {},
   "outputs": [
    {
     "ename": "NotFound",
     "evalue": "404 Not found: Table tdm-scenarios:tdm_scenarios_output.scenarios was not found in location us-west3\n\nLocation: us-west3\nJob ID: c7ddc5ab-1f15-4b8c-8a3d-492fe71f8f95\n",
     "output_type": "error",
     "traceback": [
      "\u001b[1;31m---------------------------------------------------------------------------\u001b[0m",
      "\u001b[1;31mNotFound\u001b[0m                                  Traceback (most recent call last)",
      "\u001b[1;32m~\\AppData\\Local\\Temp\\ipykernel_5680\\2107386328.py\u001b[0m in \u001b[0;36m<module>\u001b[1;34m\u001b[0m\n\u001b[0;32m      1\u001b[0m \u001b[1;31m# determine new rows to be added to GBQ tables\u001b[0m\u001b[1;33m\u001b[0m\u001b[1;33m\u001b[0m\u001b[0m\n\u001b[1;32m----> 2\u001b[1;33m \u001b[0mdfScenariosMaster2\u001b[0m       \u001b[1;33m=\u001b[0m \u001b[0mappend_new_rows\u001b[0m\u001b[1;33m(\u001b[0m\u001b[1;34m'tdm-scenarios.tdm_scenarios_output.scenarios'\u001b[0m      \u001b[1;33m,\u001b[0m \u001b[0mdfScenariosMaster\u001b[0m\u001b[1;33m)\u001b[0m\u001b[1;33m\u001b[0m\u001b[1;33m\u001b[0m\u001b[0m\n\u001b[0m\u001b[0;32m      3\u001b[0m \u001b[0mdfSegSummaryMaster2\u001b[0m      \u001b[1;33m=\u001b[0m \u001b[0mappend_new_rows\u001b[0m\u001b[1;33m(\u001b[0m\u001b[1;34m'tdm-scenarios.tdm_scenarios_output.segment_summary'\u001b[0m\u001b[1;33m,\u001b[0m \u001b[0mdfSegSummaryMaster\u001b[0m\u001b[1;33m)\u001b[0m\u001b[1;33m\u001b[0m\u001b[1;33m\u001b[0m\u001b[0m\n\u001b[0;32m      4\u001b[0m \u001b[0mdfTransitShareMaster2\u001b[0m    \u001b[1;33m=\u001b[0m \u001b[0mappend_new_rows\u001b[0m\u001b[1;33m(\u001b[0m\u001b[1;34m'tdm-scenarios.tdm_scenarios_output.scenarios'\u001b[0m      \u001b[1;33m,\u001b[0m \u001b[0mdfTransitShareMaster\u001b[0m\u001b[1;33m)\u001b[0m\u001b[1;33m\u001b[0m\u001b[1;33m\u001b[0m\u001b[0m\n\u001b[0;32m      5\u001b[0m \u001b[0mdfRouteSummaryMaster2\u001b[0m    \u001b[1;33m=\u001b[0m \u001b[0mappend_new_rows\u001b[0m\u001b[1;33m(\u001b[0m\u001b[1;34m'tdm-scenarios.tdm_scenarios_output.route_summary'\u001b[0m  \u001b[1;33m,\u001b[0m \u001b[0mdfRouteSummaryMaster\u001b[0m\u001b[1;33m)\u001b[0m\u001b[1;33m\u001b[0m\u001b[1;33m\u001b[0m\u001b[0m\n",
      "\u001b[1;32m~\\AppData\\Local\\Temp\\ipykernel_5680\\261660307.py\u001b[0m in \u001b[0;36mappend_new_rows\u001b[1;34m(tableID, df)\u001b[0m\n\u001b[0;32m     13\u001b[0m \u001b[1;33m\u001b[0m\u001b[0m\n\u001b[0;32m     14\u001b[0m \u001b[1;32mdef\u001b[0m \u001b[0mappend_new_rows\u001b[0m\u001b[1;33m(\u001b[0m\u001b[0mtableID\u001b[0m\u001b[1;33m,\u001b[0m \u001b[0mdf\u001b[0m\u001b[1;33m)\u001b[0m\u001b[1;33m:\u001b[0m\u001b[1;33m\u001b[0m\u001b[1;33m\u001b[0m\u001b[0m\n\u001b[1;32m---> 15\u001b[1;33m     \u001b[0mdfGBQ\u001b[0m \u001b[1;33m=\u001b[0m \u001b[0mclient\u001b[0m\u001b[1;33m.\u001b[0m\u001b[0mquery\u001b[0m\u001b[1;33m(\u001b[0m\u001b[1;34m\"SELECT * FROM \"\u001b[0m \u001b[1;33m+\u001b[0m \u001b[0mtableID\u001b[0m\u001b[1;33m)\u001b[0m\u001b[1;33m.\u001b[0m\u001b[0mto_dataframe\u001b[0m\u001b[1;33m(\u001b[0m\u001b[1;33m)\u001b[0m\u001b[1;33m\u001b[0m\u001b[1;33m\u001b[0m\u001b[0m\n\u001b[0m\u001b[0;32m     16\u001b[0m     \u001b[0mdfGBQList\u001b[0m \u001b[1;33m=\u001b[0m \u001b[0mlist\u001b[0m\u001b[1;33m(\u001b[0m\u001b[0mset\u001b[0m\u001b[1;33m(\u001b[0m\u001b[1;33m(\u001b[0m\u001b[0mdfGBQ\u001b[0m\u001b[1;33m.\u001b[0m\u001b[0mscenarioID\u001b[0m\u001b[1;33m.\u001b[0m\u001b[0mtolist\u001b[0m\u001b[1;33m(\u001b[0m\u001b[1;33m)\u001b[0m\u001b[1;33m)\u001b[0m\u001b[1;33m)\u001b[0m\u001b[1;33m)\u001b[0m\u001b[1;33m\u001b[0m\u001b[1;33m\u001b[0m\u001b[0m\n\u001b[0;32m     17\u001b[0m     \u001b[0mdf2\u001b[0m \u001b[1;33m=\u001b[0m \u001b[0mdf\u001b[0m\u001b[1;33m[\u001b[0m\u001b[1;33m~\u001b[0m\u001b[1;33m(\u001b[0m\u001b[0mdf\u001b[0m\u001b[1;33m.\u001b[0m\u001b[0mscenarioID\u001b[0m\u001b[1;33m.\u001b[0m\u001b[0misin\u001b[0m\u001b[1;33m(\u001b[0m\u001b[0mdfGBQList\u001b[0m\u001b[1;33m)\u001b[0m\u001b[1;33m)\u001b[0m\u001b[1;33m]\u001b[0m\u001b[1;33m\u001b[0m\u001b[1;33m\u001b[0m\u001b[0m\n",
      "\u001b[1;32mc:\\Users\\bhereth\\Anaconda3\\lib\\site-packages\\google\\cloud\\bigquery\\job\\query.py\u001b[0m in \u001b[0;36mto_dataframe\u001b[1;34m(self, bqstorage_client, dtypes, progress_bar_type, create_bqstorage_client, max_results, geography_as_object)\u001b[0m\n\u001b[0;32m   1685\u001b[0m                 \u001b[1;33m:\u001b[0m\u001b[0mmod\u001b[0m\u001b[1;33m:\u001b[0m\u001b[0;31m`\u001b[0m\u001b[0mshapely\u001b[0m\u001b[0;31m`\u001b[0m \u001b[0mlibrary\u001b[0m \u001b[0mcannot\u001b[0m \u001b[0mbe\u001b[0m \u001b[0mimported\u001b[0m\u001b[1;33m.\u001b[0m\u001b[1;33m\u001b[0m\u001b[1;33m\u001b[0m\u001b[0m\n\u001b[0;32m   1686\u001b[0m         \"\"\"\n\u001b[1;32m-> 1687\u001b[1;33m         \u001b[0mquery_result\u001b[0m \u001b[1;33m=\u001b[0m \u001b[0mwait_for_query\u001b[0m\u001b[1;33m(\u001b[0m\u001b[0mself\u001b[0m\u001b[1;33m,\u001b[0m \u001b[0mprogress_bar_type\u001b[0m\u001b[1;33m,\u001b[0m \u001b[0mmax_results\u001b[0m\u001b[1;33m=\u001b[0m\u001b[0mmax_results\u001b[0m\u001b[1;33m)\u001b[0m\u001b[1;33m\u001b[0m\u001b[1;33m\u001b[0m\u001b[0m\n\u001b[0m\u001b[0;32m   1688\u001b[0m         return query_result.to_dataframe(\n\u001b[0;32m   1689\u001b[0m             \u001b[0mbqstorage_client\u001b[0m\u001b[1;33m=\u001b[0m\u001b[0mbqstorage_client\u001b[0m\u001b[1;33m,\u001b[0m\u001b[1;33m\u001b[0m\u001b[1;33m\u001b[0m\u001b[0m\n",
      "\u001b[1;32mc:\\Users\\bhereth\\Anaconda3\\lib\\site-packages\\google\\cloud\\bigquery\\_tqdm_helpers.py\u001b[0m in \u001b[0;36mwait_for_query\u001b[1;34m(query_job, progress_bar_type, max_results)\u001b[0m\n\u001b[0;32m    102\u001b[0m     )\n\u001b[0;32m    103\u001b[0m     \u001b[1;32mif\u001b[0m \u001b[0mprogress_bar\u001b[0m \u001b[1;32mis\u001b[0m \u001b[1;32mNone\u001b[0m\u001b[1;33m:\u001b[0m\u001b[1;33m\u001b[0m\u001b[1;33m\u001b[0m\u001b[0m\n\u001b[1;32m--> 104\u001b[1;33m         \u001b[1;32mreturn\u001b[0m \u001b[0mquery_job\u001b[0m\u001b[1;33m.\u001b[0m\u001b[0mresult\u001b[0m\u001b[1;33m(\u001b[0m\u001b[0mmax_results\u001b[0m\u001b[1;33m=\u001b[0m\u001b[0mmax_results\u001b[0m\u001b[1;33m)\u001b[0m\u001b[1;33m\u001b[0m\u001b[1;33m\u001b[0m\u001b[0m\n\u001b[0m\u001b[0;32m    105\u001b[0m \u001b[1;33m\u001b[0m\u001b[0m\n\u001b[0;32m    106\u001b[0m     \u001b[0mi\u001b[0m \u001b[1;33m=\u001b[0m \u001b[1;36m0\u001b[0m\u001b[1;33m\u001b[0m\u001b[1;33m\u001b[0m\u001b[0m\n",
      "\u001b[1;32mc:\\Users\\bhereth\\Anaconda3\\lib\\site-packages\\google\\cloud\\bigquery\\job\\query.py\u001b[0m in \u001b[0;36mresult\u001b[1;34m(self, page_size, max_results, retry, timeout, start_index, job_retry)\u001b[0m\n\u001b[0;32m   1497\u001b[0m                 \u001b[0mdo_get_result\u001b[0m \u001b[1;33m=\u001b[0m \u001b[0mjob_retry\u001b[0m\u001b[1;33m(\u001b[0m\u001b[0mdo_get_result\u001b[0m\u001b[1;33m)\u001b[0m\u001b[1;33m\u001b[0m\u001b[1;33m\u001b[0m\u001b[0m\n\u001b[0;32m   1498\u001b[0m \u001b[1;33m\u001b[0m\u001b[0m\n\u001b[1;32m-> 1499\u001b[1;33m             \u001b[0mdo_get_result\u001b[0m\u001b[1;33m(\u001b[0m\u001b[1;33m)\u001b[0m\u001b[1;33m\u001b[0m\u001b[1;33m\u001b[0m\u001b[0m\n\u001b[0m\u001b[0;32m   1500\u001b[0m \u001b[1;33m\u001b[0m\u001b[0m\n\u001b[0;32m   1501\u001b[0m         \u001b[1;32mexcept\u001b[0m \u001b[0mexceptions\u001b[0m\u001b[1;33m.\u001b[0m\u001b[0mGoogleAPICallError\u001b[0m \u001b[1;32mas\u001b[0m \u001b[0mexc\u001b[0m\u001b[1;33m:\u001b[0m\u001b[1;33m\u001b[0m\u001b[1;33m\u001b[0m\u001b[0m\n",
      "\u001b[1;32mc:\\Users\\bhereth\\Anaconda3\\lib\\site-packages\\google\\api_core\\retry.py\u001b[0m in \u001b[0;36mretry_wrapped_func\u001b[1;34m(*args, **kwargs)\u001b[0m\n\u001b[0;32m    347\u001b[0m                 \u001b[0mself\u001b[0m\u001b[1;33m.\u001b[0m\u001b[0m_initial\u001b[0m\u001b[1;33m,\u001b[0m \u001b[0mself\u001b[0m\u001b[1;33m.\u001b[0m\u001b[0m_maximum\u001b[0m\u001b[1;33m,\u001b[0m \u001b[0mmultiplier\u001b[0m\u001b[1;33m=\u001b[0m\u001b[0mself\u001b[0m\u001b[1;33m.\u001b[0m\u001b[0m_multiplier\u001b[0m\u001b[1;33m\u001b[0m\u001b[1;33m\u001b[0m\u001b[0m\n\u001b[0;32m    348\u001b[0m             )\n\u001b[1;32m--> 349\u001b[1;33m             return retry_target(\n\u001b[0m\u001b[0;32m    350\u001b[0m                 \u001b[0mtarget\u001b[0m\u001b[1;33m,\u001b[0m\u001b[1;33m\u001b[0m\u001b[1;33m\u001b[0m\u001b[0m\n\u001b[0;32m    351\u001b[0m                 \u001b[0mself\u001b[0m\u001b[1;33m.\u001b[0m\u001b[0m_predicate\u001b[0m\u001b[1;33m,\u001b[0m\u001b[1;33m\u001b[0m\u001b[1;33m\u001b[0m\u001b[0m\n",
      "\u001b[1;32mc:\\Users\\bhereth\\Anaconda3\\lib\\site-packages\\google\\api_core\\retry.py\u001b[0m in \u001b[0;36mretry_target\u001b[1;34m(target, predicate, sleep_generator, timeout, on_error, **kwargs)\u001b[0m\n\u001b[0;32m    189\u001b[0m     \u001b[1;32mfor\u001b[0m \u001b[0msleep\u001b[0m \u001b[1;32min\u001b[0m \u001b[0msleep_generator\u001b[0m\u001b[1;33m:\u001b[0m\u001b[1;33m\u001b[0m\u001b[1;33m\u001b[0m\u001b[0m\n\u001b[0;32m    190\u001b[0m         \u001b[1;32mtry\u001b[0m\u001b[1;33m:\u001b[0m\u001b[1;33m\u001b[0m\u001b[1;33m\u001b[0m\u001b[0m\n\u001b[1;32m--> 191\u001b[1;33m             \u001b[1;32mreturn\u001b[0m \u001b[0mtarget\u001b[0m\u001b[1;33m(\u001b[0m\u001b[1;33m)\u001b[0m\u001b[1;33m\u001b[0m\u001b[1;33m\u001b[0m\u001b[0m\n\u001b[0m\u001b[0;32m    192\u001b[0m \u001b[1;33m\u001b[0m\u001b[0m\n\u001b[0;32m    193\u001b[0m         \u001b[1;31m# pylint: disable=broad-except\u001b[0m\u001b[1;33m\u001b[0m\u001b[1;33m\u001b[0m\u001b[0m\n",
      "\u001b[1;32mc:\\Users\\bhereth\\Anaconda3\\lib\\site-packages\\google\\cloud\\bigquery\\job\\query.py\u001b[0m in \u001b[0;36mdo_get_result\u001b[1;34m()\u001b[0m\n\u001b[0;32m   1487\u001b[0m                     \u001b[0mself\u001b[0m\u001b[1;33m.\u001b[0m\u001b[0m_job_retry\u001b[0m \u001b[1;33m=\u001b[0m \u001b[0mjob_retry\u001b[0m\u001b[1;33m\u001b[0m\u001b[1;33m\u001b[0m\u001b[0m\n\u001b[0;32m   1488\u001b[0m \u001b[1;33m\u001b[0m\u001b[0m\n\u001b[1;32m-> 1489\u001b[1;33m                 \u001b[0msuper\u001b[0m\u001b[1;33m(\u001b[0m\u001b[0mQueryJob\u001b[0m\u001b[1;33m,\u001b[0m \u001b[0mself\u001b[0m\u001b[1;33m)\u001b[0m\u001b[1;33m.\u001b[0m\u001b[0mresult\u001b[0m\u001b[1;33m(\u001b[0m\u001b[0mretry\u001b[0m\u001b[1;33m=\u001b[0m\u001b[0mretry\u001b[0m\u001b[1;33m,\u001b[0m \u001b[0mtimeout\u001b[0m\u001b[1;33m=\u001b[0m\u001b[0mtimeout\u001b[0m\u001b[1;33m)\u001b[0m\u001b[1;33m\u001b[0m\u001b[1;33m\u001b[0m\u001b[0m\n\u001b[0m\u001b[0;32m   1490\u001b[0m \u001b[1;33m\u001b[0m\u001b[0m\n\u001b[0;32m   1491\u001b[0m                 \u001b[1;31m# Since the job could already be \"done\" (e.g. got a finished job\u001b[0m\u001b[1;33m\u001b[0m\u001b[1;33m\u001b[0m\u001b[0m\n",
      "\u001b[1;32mc:\\Users\\bhereth\\Anaconda3\\lib\\site-packages\\google\\cloud\\bigquery\\job\\base.py\u001b[0m in \u001b[0;36mresult\u001b[1;34m(self, retry, timeout)\u001b[0m\n\u001b[0;32m    726\u001b[0m \u001b[1;33m\u001b[0m\u001b[0m\n\u001b[0;32m    727\u001b[0m         \u001b[0mkwargs\u001b[0m \u001b[1;33m=\u001b[0m \u001b[1;33m{\u001b[0m\u001b[1;33m}\u001b[0m \u001b[1;32mif\u001b[0m \u001b[0mretry\u001b[0m \u001b[1;32mis\u001b[0m \u001b[0mDEFAULT_RETRY\u001b[0m \u001b[1;32melse\u001b[0m \u001b[1;33m{\u001b[0m\u001b[1;34m\"retry\"\u001b[0m\u001b[1;33m:\u001b[0m \u001b[0mretry\u001b[0m\u001b[1;33m}\u001b[0m\u001b[1;33m\u001b[0m\u001b[1;33m\u001b[0m\u001b[0m\n\u001b[1;32m--> 728\u001b[1;33m         \u001b[1;32mreturn\u001b[0m \u001b[0msuper\u001b[0m\u001b[1;33m(\u001b[0m\u001b[0m_AsyncJob\u001b[0m\u001b[1;33m,\u001b[0m \u001b[0mself\u001b[0m\u001b[1;33m)\u001b[0m\u001b[1;33m.\u001b[0m\u001b[0mresult\u001b[0m\u001b[1;33m(\u001b[0m\u001b[0mtimeout\u001b[0m\u001b[1;33m=\u001b[0m\u001b[0mtimeout\u001b[0m\u001b[1;33m,\u001b[0m \u001b[1;33m**\u001b[0m\u001b[0mkwargs\u001b[0m\u001b[1;33m)\u001b[0m\u001b[1;33m\u001b[0m\u001b[1;33m\u001b[0m\u001b[0m\n\u001b[0m\u001b[0;32m    729\u001b[0m \u001b[1;33m\u001b[0m\u001b[0m\n\u001b[0;32m    730\u001b[0m     \u001b[1;32mdef\u001b[0m \u001b[0mcancelled\u001b[0m\u001b[1;33m(\u001b[0m\u001b[0mself\u001b[0m\u001b[1;33m)\u001b[0m\u001b[1;33m:\u001b[0m\u001b[1;33m\u001b[0m\u001b[1;33m\u001b[0m\u001b[0m\n",
      "\u001b[1;32mc:\\Users\\bhereth\\Anaconda3\\lib\\site-packages\\google\\api_core\\future\\polling.py\u001b[0m in \u001b[0;36mresult\u001b[1;34m(self, timeout, retry, polling)\u001b[0m\n\u001b[0;32m    259\u001b[0m             \u001b[1;31m# pylint: disable=raising-bad-type\u001b[0m\u001b[1;33m\u001b[0m\u001b[1;33m\u001b[0m\u001b[0m\n\u001b[0;32m    260\u001b[0m             \u001b[1;31m# Pylint doesn't recognize that this is valid in this case.\u001b[0m\u001b[1;33m\u001b[0m\u001b[1;33m\u001b[0m\u001b[0m\n\u001b[1;32m--> 261\u001b[1;33m             \u001b[1;32mraise\u001b[0m \u001b[0mself\u001b[0m\u001b[1;33m.\u001b[0m\u001b[0m_exception\u001b[0m\u001b[1;33m\u001b[0m\u001b[1;33m\u001b[0m\u001b[0m\n\u001b[0m\u001b[0;32m    262\u001b[0m \u001b[1;33m\u001b[0m\u001b[0m\n\u001b[0;32m    263\u001b[0m         \u001b[1;32mreturn\u001b[0m \u001b[0mself\u001b[0m\u001b[1;33m.\u001b[0m\u001b[0m_result\u001b[0m\u001b[1;33m\u001b[0m\u001b[1;33m\u001b[0m\u001b[0m\n",
      "\u001b[1;31mNotFound\u001b[0m: 404 Not found: Table tdm-scenarios:tdm_scenarios_output.scenarios was not found in location us-west3\n\nLocation: us-west3\nJob ID: c7ddc5ab-1f15-4b8c-8a3d-492fe71f8f95\n"
     ]
    }
   ],
   "source": [
    "# determine new rows to be added to GBQ tables\n",
    "dfScenariosMaster2       = append_new_rows('tdm-scenarios.tdm_scenarios_output.scenarios'      , dfScenariosMaster)\n",
    "dfSegSummaryMaster2      = append_new_rows('tdm-scenarios.tdm_scenarios_output.segment_summary', dfSegSummaryMaster)\n",
    "dfTransitShareMaster2    = append_new_rows('tdm-scenarios.tdm_scenarios_output.scenarios'      , dfTransitShareMaster)\n",
    "dfRouteSummaryMaster2    = append_new_rows('tdm-scenarios.tdm_scenarios_output.route_summary'  , dfRouteSummaryMaster)\n",
    "dfSESummaryMaster2       = append_new_rows('tdm-scenarios.tdm_scenarios_output.se_table'       , dfSESummaryMaster)\n",
    "dfTransitODDetailMaster2 = append_new_rows('tdm-scenarios.tdm_scenarios_output.route_od_detail', dfTransitODDetailMaster)\n",
    "dfTransitPADetailMaster2 = append_new_rows('tdm-scenarios.tdm_scenarios_output.route_pa_detail', dfTransitPADetailMaster)"
   ]
  },
  {
   "cell_type": "code",
   "execution_count": null,
   "metadata": {},
   "outputs": [],
   "source": [
    "# add new scenario rows to GBQ tables\n",
    "update_gbq_table('tdm-scenarios.tdm_scenarios_output.scenarios'      , dfScenariosMaster2      )\n",
    "update_gbq_table('tdm-scenarios.tdm_scenarios_output.segment_summary', dfSegSummaryMaster2     )\n",
    "update_gbq_table('tdm-scenarios.tdm_scenarios_output.transit_share'  , dfTransitShareMaster2   )\n",
    "update_gbq_table('tdm-scenarios.tdm_scenarios_output.route_summary'  , dfRouteSummaryMaster2   )\n",
    "update_gbq_table('tdm-scenarios.tdm_scenarios_output.se_table'       , dfSESummaryMaster2      )\n",
    "update_gbq_table('tdm-scenarios.tdm_scenarios_output.route_od_detail', dfTransitODDetailMaster2)\n",
    "update_gbq_table('tdm-scenarios.tdm_scenarios_output.route_pa_detail', dfTransitPADetailMaster2)"
   ]
  },
  {
   "attachments": {},
   "cell_type": "markdown",
   "metadata": {},
   "source": [
    "# Notes"
   ]
  },
  {
   "cell_type": "code",
   "execution_count": 168,
   "metadata": {},
   "outputs": [],
   "source": [
    "dfGBQ = client.query(\"SELECT * FROM \" + 'tdm-scenarios.tdm_scenarios_output.scenarios').to_dataframe()\n",
    "dfGBQList = list(set((dfGBQ.scenarioID.tolist())))[0:20]\n",
    "df3 = dfScenariosMaster[~(dfScenariosMaster.scenarioID.isin(dfGBQList))]\n",
    "\n"
   ]
  },
  {
   "cell_type": "code",
   "execution_count": 67,
   "metadata": {},
   "outputs": [
    {
     "ename": "Forbidden",
     "evalue": "403 Billing has not been enabled for this project. Enable billing at https://console.cloud.google.com/billing. DML queries are not allowed in the free tier. Set up a billing account to remove this restriction.\n\nLocation: us-west3\nJob ID: e1725aee-d386-469b-b1b6-47656ed242e2\n",
     "output_type": "error",
     "traceback": [
      "\u001b[1;31m---------------------------------------------------------------------------\u001b[0m",
      "\u001b[1;31mForbidden\u001b[0m                                 Traceback (most recent call last)",
      "\u001b[1;32m<ipython-input-67-4edf53ab5617>\u001b[0m in \u001b[0;36m<module>\u001b[1;34m\u001b[0m\n\u001b[0;32m      1\u001b[0m \u001b[0mjob\u001b[0m \u001b[1;33m=\u001b[0m \u001b[0mclient\u001b[0m\u001b[1;33m.\u001b[0m\u001b[0mquery\u001b[0m\u001b[1;33m(\u001b[0m\u001b[1;34m\"DELETE FROM \"\u001b[0m \u001b[1;33m+\u001b[0m \u001b[1;34m'tdm-scenarios.tdm_scenarios_output.scenarios'\u001b[0m \u001b[1;33m+\u001b[0m \u001b[1;34m\" WHERE scenarioID > 0\"\u001b[0m\u001b[1;33m)\u001b[0m\u001b[1;33m\u001b[0m\u001b[1;33m\u001b[0m\u001b[0m\n\u001b[1;32m----> 2\u001b[1;33m \u001b[0mjob\u001b[0m\u001b[1;33m.\u001b[0m\u001b[0mresult\u001b[0m\u001b[1;33m(\u001b[0m\u001b[1;33m)\u001b[0m\u001b[1;33m\u001b[0m\u001b[1;33m\u001b[0m\u001b[0m\n\u001b[0m",
      "\u001b[1;32m~\\AppData\\Local\\ESRI\\conda\\envs\\arcgispro-py3-bigquery\\lib\\site-packages\\google\\cloud\\bigquery\\job\\query.py\u001b[0m in \u001b[0;36mresult\u001b[1;34m(self, page_size, max_results, retry, timeout, start_index, job_retry)\u001b[0m\n\u001b[0;32m   1497\u001b[0m                 \u001b[0mdo_get_result\u001b[0m \u001b[1;33m=\u001b[0m \u001b[0mjob_retry\u001b[0m\u001b[1;33m(\u001b[0m\u001b[0mdo_get_result\u001b[0m\u001b[1;33m)\u001b[0m\u001b[1;33m\u001b[0m\u001b[1;33m\u001b[0m\u001b[0m\n\u001b[0;32m   1498\u001b[0m \u001b[1;33m\u001b[0m\u001b[0m\n\u001b[1;32m-> 1499\u001b[1;33m             \u001b[0mdo_get_result\u001b[0m\u001b[1;33m(\u001b[0m\u001b[1;33m)\u001b[0m\u001b[1;33m\u001b[0m\u001b[1;33m\u001b[0m\u001b[0m\n\u001b[0m\u001b[0;32m   1500\u001b[0m \u001b[1;33m\u001b[0m\u001b[0m\n\u001b[0;32m   1501\u001b[0m         \u001b[1;32mexcept\u001b[0m \u001b[0mexceptions\u001b[0m\u001b[1;33m.\u001b[0m\u001b[0mGoogleAPICallError\u001b[0m \u001b[1;32mas\u001b[0m \u001b[0mexc\u001b[0m\u001b[1;33m:\u001b[0m\u001b[1;33m\u001b[0m\u001b[1;33m\u001b[0m\u001b[0m\n",
      "\u001b[1;32m~\\AppData\\Local\\ESRI\\conda\\envs\\arcgispro-py3-bigquery\\lib\\site-packages\\google\\api_core\\retry.py\u001b[0m in \u001b[0;36mretry_wrapped_func\u001b[1;34m(*args, **kwargs)\u001b[0m\n\u001b[0;32m    286\u001b[0m                 \u001b[0msleep_generator\u001b[0m\u001b[1;33m,\u001b[0m\u001b[1;33m\u001b[0m\u001b[1;33m\u001b[0m\u001b[0m\n\u001b[0;32m    287\u001b[0m                 \u001b[0mself\u001b[0m\u001b[1;33m.\u001b[0m\u001b[0m_deadline\u001b[0m\u001b[1;33m,\u001b[0m\u001b[1;33m\u001b[0m\u001b[1;33m\u001b[0m\u001b[0m\n\u001b[1;32m--> 288\u001b[1;33m                 \u001b[0mon_error\u001b[0m\u001b[1;33m=\u001b[0m\u001b[0mon_error\u001b[0m\u001b[1;33m,\u001b[0m\u001b[1;33m\u001b[0m\u001b[1;33m\u001b[0m\u001b[0m\n\u001b[0m\u001b[0;32m    289\u001b[0m             )\n\u001b[0;32m    290\u001b[0m \u001b[1;33m\u001b[0m\u001b[0m\n",
      "\u001b[1;32m~\\AppData\\Local\\ESRI\\conda\\envs\\arcgispro-py3-bigquery\\lib\\site-packages\\google\\api_core\\retry.py\u001b[0m in \u001b[0;36mretry_target\u001b[1;34m(target, predicate, sleep_generator, deadline, on_error)\u001b[0m\n\u001b[0;32m    188\u001b[0m     \u001b[1;32mfor\u001b[0m \u001b[0msleep\u001b[0m \u001b[1;32min\u001b[0m \u001b[0msleep_generator\u001b[0m\u001b[1;33m:\u001b[0m\u001b[1;33m\u001b[0m\u001b[1;33m\u001b[0m\u001b[0m\n\u001b[0;32m    189\u001b[0m         \u001b[1;32mtry\u001b[0m\u001b[1;33m:\u001b[0m\u001b[1;33m\u001b[0m\u001b[1;33m\u001b[0m\u001b[0m\n\u001b[1;32m--> 190\u001b[1;33m             \u001b[1;32mreturn\u001b[0m \u001b[0mtarget\u001b[0m\u001b[1;33m(\u001b[0m\u001b[1;33m)\u001b[0m\u001b[1;33m\u001b[0m\u001b[1;33m\u001b[0m\u001b[0m\n\u001b[0m\u001b[0;32m    191\u001b[0m \u001b[1;33m\u001b[0m\u001b[0m\n\u001b[0;32m    192\u001b[0m         \u001b[1;31m# pylint: disable=broad-except\u001b[0m\u001b[1;33m\u001b[0m\u001b[1;33m\u001b[0m\u001b[1;33m\u001b[0m\u001b[0m\n",
      "\u001b[1;32m~\\AppData\\Local\\ESRI\\conda\\envs\\arcgispro-py3-bigquery\\lib\\site-packages\\google\\cloud\\bigquery\\job\\query.py\u001b[0m in \u001b[0;36mdo_get_result\u001b[1;34m()\u001b[0m\n\u001b[0;32m   1487\u001b[0m                     \u001b[0mself\u001b[0m\u001b[1;33m.\u001b[0m\u001b[0m_job_retry\u001b[0m \u001b[1;33m=\u001b[0m \u001b[0mjob_retry\u001b[0m\u001b[1;33m\u001b[0m\u001b[1;33m\u001b[0m\u001b[0m\n\u001b[0;32m   1488\u001b[0m \u001b[1;33m\u001b[0m\u001b[0m\n\u001b[1;32m-> 1489\u001b[1;33m                 \u001b[0msuper\u001b[0m\u001b[1;33m(\u001b[0m\u001b[0mQueryJob\u001b[0m\u001b[1;33m,\u001b[0m \u001b[0mself\u001b[0m\u001b[1;33m)\u001b[0m\u001b[1;33m.\u001b[0m\u001b[0mresult\u001b[0m\u001b[1;33m(\u001b[0m\u001b[0mretry\u001b[0m\u001b[1;33m=\u001b[0m\u001b[0mretry\u001b[0m\u001b[1;33m,\u001b[0m \u001b[0mtimeout\u001b[0m\u001b[1;33m=\u001b[0m\u001b[0mtimeout\u001b[0m\u001b[1;33m)\u001b[0m\u001b[1;33m\u001b[0m\u001b[1;33m\u001b[0m\u001b[0m\n\u001b[0m\u001b[0;32m   1490\u001b[0m \u001b[1;33m\u001b[0m\u001b[0m\n\u001b[0;32m   1491\u001b[0m                 \u001b[1;31m# Since the job could already be \"done\" (e.g. got a finished job\u001b[0m\u001b[1;33m\u001b[0m\u001b[1;33m\u001b[0m\u001b[1;33m\u001b[0m\u001b[0m\n",
      "\u001b[1;32m~\\AppData\\Local\\ESRI\\conda\\envs\\arcgispro-py3-bigquery\\lib\\site-packages\\google\\cloud\\bigquery\\job\\base.py\u001b[0m in \u001b[0;36mresult\u001b[1;34m(self, retry, timeout)\u001b[0m\n\u001b[0;32m    726\u001b[0m \u001b[1;33m\u001b[0m\u001b[0m\n\u001b[0;32m    727\u001b[0m         \u001b[0mkwargs\u001b[0m \u001b[1;33m=\u001b[0m \u001b[1;33m{\u001b[0m\u001b[1;33m}\u001b[0m \u001b[1;32mif\u001b[0m \u001b[0mretry\u001b[0m \u001b[1;32mis\u001b[0m \u001b[0mDEFAULT_RETRY\u001b[0m \u001b[1;32melse\u001b[0m \u001b[1;33m{\u001b[0m\u001b[1;34m\"retry\"\u001b[0m\u001b[1;33m:\u001b[0m \u001b[0mretry\u001b[0m\u001b[1;33m}\u001b[0m\u001b[1;33m\u001b[0m\u001b[1;33m\u001b[0m\u001b[0m\n\u001b[1;32m--> 728\u001b[1;33m         \u001b[1;32mreturn\u001b[0m \u001b[0msuper\u001b[0m\u001b[1;33m(\u001b[0m\u001b[0m_AsyncJob\u001b[0m\u001b[1;33m,\u001b[0m \u001b[0mself\u001b[0m\u001b[1;33m)\u001b[0m\u001b[1;33m.\u001b[0m\u001b[0mresult\u001b[0m\u001b[1;33m(\u001b[0m\u001b[0mtimeout\u001b[0m\u001b[1;33m=\u001b[0m\u001b[0mtimeout\u001b[0m\u001b[1;33m,\u001b[0m \u001b[1;33m**\u001b[0m\u001b[0mkwargs\u001b[0m\u001b[1;33m)\u001b[0m\u001b[1;33m\u001b[0m\u001b[1;33m\u001b[0m\u001b[0m\n\u001b[0m\u001b[0;32m    729\u001b[0m \u001b[1;33m\u001b[0m\u001b[0m\n\u001b[0;32m    730\u001b[0m     \u001b[1;32mdef\u001b[0m \u001b[0mcancelled\u001b[0m\u001b[1;33m(\u001b[0m\u001b[0mself\u001b[0m\u001b[1;33m)\u001b[0m\u001b[1;33m:\u001b[0m\u001b[1;33m\u001b[0m\u001b[1;33m\u001b[0m\u001b[0m\n",
      "\u001b[1;32m~\\AppData\\Local\\ESRI\\conda\\envs\\arcgispro-py3-bigquery\\lib\\site-packages\\google\\api_core\\future\\polling.py\u001b[0m in \u001b[0;36mresult\u001b[1;34m(self, timeout, retry)\u001b[0m\n\u001b[0;32m    135\u001b[0m             \u001b[1;31m# pylint: disable=raising-bad-type\u001b[0m\u001b[1;33m\u001b[0m\u001b[1;33m\u001b[0m\u001b[1;33m\u001b[0m\u001b[0m\n\u001b[0;32m    136\u001b[0m             \u001b[1;31m# Pylint doesn't recognize that this is valid in this case.\u001b[0m\u001b[1;33m\u001b[0m\u001b[1;33m\u001b[0m\u001b[1;33m\u001b[0m\u001b[0m\n\u001b[1;32m--> 137\u001b[1;33m             \u001b[1;32mraise\u001b[0m \u001b[0mself\u001b[0m\u001b[1;33m.\u001b[0m\u001b[0m_exception\u001b[0m\u001b[1;33m\u001b[0m\u001b[1;33m\u001b[0m\u001b[0m\n\u001b[0m\u001b[0;32m    138\u001b[0m \u001b[1;33m\u001b[0m\u001b[0m\n\u001b[0;32m    139\u001b[0m         \u001b[1;32mreturn\u001b[0m \u001b[0mself\u001b[0m\u001b[1;33m.\u001b[0m\u001b[0m_result\u001b[0m\u001b[1;33m\u001b[0m\u001b[1;33m\u001b[0m\u001b[0m\n",
      "\u001b[1;31mForbidden\u001b[0m: 403 Billing has not been enabled for this project. Enable billing at https://console.cloud.google.com/billing. DML queries are not allowed in the free tier. Set up a billing account to remove this restriction.\n\nLocation: us-west3\nJob ID: e1725aee-d386-469b-b1b6-47656ed242e2\n"
     ]
    }
   ],
   "source": [
    "job = client.query(\"DELETE FROM \" + 'tdm-scenarios.tdm_scenarios_output.scenarios' + \" WHERE scenarioID > 0\")\n",
    "job.result()"
   ]
  },
  {
   "cell_type": "code",
   "execution_count": null,
   "metadata": {},
   "outputs": [],
   "source": [
    "# update scenarios\n",
    "table_id_1 = 'tdm-scenarios.tdm_scenarios_output.scenarios'\n",
    "job = client.load_table_from_dataframe(\n",
    "    dfScenariosMaster, \n",
    "    table_id_1, \n",
    "    job_config\n",
    ")  # Make an API request.\n",
    "job.result()  # Wait for the job to complete.\n",
    "table = client.get_table(table_id_1)  # Make an API request."
   ]
  },
  {
   "cell_type": "code",
   "execution_count": 20,
   "metadata": {},
   "outputs": [
    {
     "ename": "Forbidden",
     "evalue": "403 GET https://bigquery.googleapis.com/bigquery/v2/projects/tdm-scenarios/datasets/tdm_scenarios_output/tables/scenarios?prettyPrint=false: Access Denied: Table tdm-scenarios:tdm_scenarios_output.scenarios: Permission bigquery.tables.get denied on table tdm-scenarios:tdm_scenarios_output.scenarios (or it may not exist).",
     "output_type": "error",
     "traceback": [
      "\u001b[1;31m---------------------------------------------------------------------------\u001b[0m",
      "\u001b[1;31mForbidden\u001b[0m                                 Traceback (most recent call last)",
      "\u001b[1;32m<ipython-input-20-22b1cef50c9e>\u001b[0m in \u001b[0;36m<module>\u001b[1;34m\u001b[0m\n\u001b[1;32m----> 1\u001b[1;33m \u001b[0mclient\u001b[0m\u001b[1;33m.\u001b[0m\u001b[0mget_table\u001b[0m\u001b[1;33m(\u001b[0m\u001b[1;34m\"tdm-scenarios.tdm_scenarios_output.scenarios\"\u001b[0m\u001b[1;33m)\u001b[0m  \u001b[1;31m# Make an API request.\u001b[0m\u001b[1;33m\u001b[0m\u001b[1;33m\u001b[0m\u001b[0m\n\u001b[0m",
      "\u001b[1;32m~\\AppData\\Local\\ESRI\\conda\\envs\\arcgispro-py3-bigquery\\lib\\site-packages\\google\\cloud\\bigquery\\client.py\u001b[0m in \u001b[0;36mget_table\u001b[1;34m(self, table, retry, timeout)\u001b[0m\n\u001b[0;32m   1015\u001b[0m             \u001b[0mmethod\u001b[0m\u001b[1;33m=\u001b[0m\u001b[1;34m\"GET\"\u001b[0m\u001b[1;33m,\u001b[0m\u001b[1;33m\u001b[0m\u001b[1;33m\u001b[0m\u001b[0m\n\u001b[0;32m   1016\u001b[0m             \u001b[0mpath\u001b[0m\u001b[1;33m=\u001b[0m\u001b[0mpath\u001b[0m\u001b[1;33m,\u001b[0m\u001b[1;33m\u001b[0m\u001b[1;33m\u001b[0m\u001b[0m\n\u001b[1;32m-> 1017\u001b[1;33m             \u001b[0mtimeout\u001b[0m\u001b[1;33m=\u001b[0m\u001b[0mtimeout\u001b[0m\u001b[1;33m,\u001b[0m\u001b[1;33m\u001b[0m\u001b[1;33m\u001b[0m\u001b[0m\n\u001b[0m\u001b[0;32m   1018\u001b[0m         )\n\u001b[0;32m   1019\u001b[0m         \u001b[1;32mreturn\u001b[0m \u001b[0mTable\u001b[0m\u001b[1;33m.\u001b[0m\u001b[0mfrom_api_repr\u001b[0m\u001b[1;33m(\u001b[0m\u001b[0mapi_response\u001b[0m\u001b[1;33m)\u001b[0m\u001b[1;33m\u001b[0m\u001b[1;33m\u001b[0m\u001b[0m\n",
      "\u001b[1;32m~\\AppData\\Local\\ESRI\\conda\\envs\\arcgispro-py3-bigquery\\lib\\site-packages\\google\\cloud\\bigquery\\client.py\u001b[0m in \u001b[0;36m_call_api\u001b[1;34m(self, retry, span_name, span_attributes, job_ref, headers, **kwargs)\u001b[0m\n\u001b[0;32m    757\u001b[0m                 \u001b[0mname\u001b[0m\u001b[1;33m=\u001b[0m\u001b[0mspan_name\u001b[0m\u001b[1;33m,\u001b[0m \u001b[0mattributes\u001b[0m\u001b[1;33m=\u001b[0m\u001b[0mspan_attributes\u001b[0m\u001b[1;33m,\u001b[0m \u001b[0mclient\u001b[0m\u001b[1;33m=\u001b[0m\u001b[0mself\u001b[0m\u001b[1;33m,\u001b[0m \u001b[0mjob_ref\u001b[0m\u001b[1;33m=\u001b[0m\u001b[0mjob_ref\u001b[0m\u001b[1;33m\u001b[0m\u001b[1;33m\u001b[0m\u001b[0m\n\u001b[0;32m    758\u001b[0m             ):\n\u001b[1;32m--> 759\u001b[1;33m                 \u001b[1;32mreturn\u001b[0m \u001b[0mcall\u001b[0m\u001b[1;33m(\u001b[0m\u001b[1;33m)\u001b[0m\u001b[1;33m\u001b[0m\u001b[1;33m\u001b[0m\u001b[0m\n\u001b[0m\u001b[0;32m    760\u001b[0m \u001b[1;33m\u001b[0m\u001b[0m\n\u001b[0;32m    761\u001b[0m         \u001b[1;32mreturn\u001b[0m \u001b[0mcall\u001b[0m\u001b[1;33m(\u001b[0m\u001b[1;33m)\u001b[0m\u001b[1;33m\u001b[0m\u001b[1;33m\u001b[0m\u001b[0m\n",
      "\u001b[1;32m~\\AppData\\Local\\ESRI\\conda\\envs\\arcgispro-py3-bigquery\\lib\\site-packages\\google\\api_core\\retry.py\u001b[0m in \u001b[0;36mretry_wrapped_func\u001b[1;34m(*args, **kwargs)\u001b[0m\n\u001b[0;32m    286\u001b[0m                 \u001b[0msleep_generator\u001b[0m\u001b[1;33m,\u001b[0m\u001b[1;33m\u001b[0m\u001b[1;33m\u001b[0m\u001b[0m\n\u001b[0;32m    287\u001b[0m                 \u001b[0mself\u001b[0m\u001b[1;33m.\u001b[0m\u001b[0m_deadline\u001b[0m\u001b[1;33m,\u001b[0m\u001b[1;33m\u001b[0m\u001b[1;33m\u001b[0m\u001b[0m\n\u001b[1;32m--> 288\u001b[1;33m                 \u001b[0mon_error\u001b[0m\u001b[1;33m=\u001b[0m\u001b[0mon_error\u001b[0m\u001b[1;33m,\u001b[0m\u001b[1;33m\u001b[0m\u001b[1;33m\u001b[0m\u001b[0m\n\u001b[0m\u001b[0;32m    289\u001b[0m             )\n\u001b[0;32m    290\u001b[0m \u001b[1;33m\u001b[0m\u001b[0m\n",
      "\u001b[1;32m~\\AppData\\Local\\ESRI\\conda\\envs\\arcgispro-py3-bigquery\\lib\\site-packages\\google\\api_core\\retry.py\u001b[0m in \u001b[0;36mretry_target\u001b[1;34m(target, predicate, sleep_generator, deadline, on_error)\u001b[0m\n\u001b[0;32m    188\u001b[0m     \u001b[1;32mfor\u001b[0m \u001b[0msleep\u001b[0m \u001b[1;32min\u001b[0m \u001b[0msleep_generator\u001b[0m\u001b[1;33m:\u001b[0m\u001b[1;33m\u001b[0m\u001b[1;33m\u001b[0m\u001b[0m\n\u001b[0;32m    189\u001b[0m         \u001b[1;32mtry\u001b[0m\u001b[1;33m:\u001b[0m\u001b[1;33m\u001b[0m\u001b[1;33m\u001b[0m\u001b[0m\n\u001b[1;32m--> 190\u001b[1;33m             \u001b[1;32mreturn\u001b[0m \u001b[0mtarget\u001b[0m\u001b[1;33m(\u001b[0m\u001b[1;33m)\u001b[0m\u001b[1;33m\u001b[0m\u001b[1;33m\u001b[0m\u001b[0m\n\u001b[0m\u001b[0;32m    191\u001b[0m \u001b[1;33m\u001b[0m\u001b[0m\n\u001b[0;32m    192\u001b[0m         \u001b[1;31m# pylint: disable=broad-except\u001b[0m\u001b[1;33m\u001b[0m\u001b[1;33m\u001b[0m\u001b[1;33m\u001b[0m\u001b[0m\n",
      "\u001b[1;32m~\\AppData\\Local\\ESRI\\conda\\envs\\arcgispro-py3-bigquery\\lib\\site-packages\\google\\cloud\\_http\\__init__.py\u001b[0m in \u001b[0;36mapi_request\u001b[1;34m(self, method, path, query_params, data, content_type, headers, api_base_url, api_version, expect_json, _target_object, timeout, extra_api_info)\u001b[0m\n\u001b[0;32m    492\u001b[0m \u001b[1;33m\u001b[0m\u001b[0m\n\u001b[0;32m    493\u001b[0m         \u001b[1;32mif\u001b[0m \u001b[1;32mnot\u001b[0m \u001b[1;36m200\u001b[0m \u001b[1;33m<=\u001b[0m \u001b[0mresponse\u001b[0m\u001b[1;33m.\u001b[0m\u001b[0mstatus_code\u001b[0m \u001b[1;33m<\u001b[0m \u001b[1;36m300\u001b[0m\u001b[1;33m:\u001b[0m\u001b[1;33m\u001b[0m\u001b[1;33m\u001b[0m\u001b[0m\n\u001b[1;32m--> 494\u001b[1;33m             \u001b[1;32mraise\u001b[0m \u001b[0mexceptions\u001b[0m\u001b[1;33m.\u001b[0m\u001b[0mfrom_http_response\u001b[0m\u001b[1;33m(\u001b[0m\u001b[0mresponse\u001b[0m\u001b[1;33m)\u001b[0m\u001b[1;33m\u001b[0m\u001b[1;33m\u001b[0m\u001b[0m\n\u001b[0m\u001b[0;32m    495\u001b[0m \u001b[1;33m\u001b[0m\u001b[0m\n\u001b[0;32m    496\u001b[0m         \u001b[1;32mif\u001b[0m \u001b[0mexpect_json\u001b[0m \u001b[1;32mand\u001b[0m \u001b[0mresponse\u001b[0m\u001b[1;33m.\u001b[0m\u001b[0mcontent\u001b[0m\u001b[1;33m:\u001b[0m\u001b[1;33m\u001b[0m\u001b[1;33m\u001b[0m\u001b[0m\n",
      "\u001b[1;31mForbidden\u001b[0m: 403 GET https://bigquery.googleapis.com/bigquery/v2/projects/tdm-scenarios/datasets/tdm_scenarios_output/tables/scenarios?prettyPrint=false: Access Denied: Table tdm-scenarios:tdm_scenarios_output.scenarios: Permission bigquery.tables.get denied on table tdm-scenarios:tdm_scenarios_output.scenarios (or it may not exist)."
     ]
    }
   ],
   "source": [
    "client.get_table(\"tdm-scenarios.tdm_scenarios_output.scenarios\")  # Make an API request."
   ]
  },
  {
   "cell_type": "code",
   "execution_count": 26,
   "metadata": {},
   "outputs": [],
   "source": [
    "table_id_s = 'tdm-scenarios.tdm_scenarios_output.segment_summary'\n",
    "job_config = bigquery.LoadJobConfig(write_disposition=\"WRITE_TRUNCATE\")\n",
    "job = client.load_table_from_dataframe(dfSegSummaryMaster, table_id_s, job_config)  # Make an API request.\n",
    "job.result()  # Wait for the job to complete.\n",
    "table = client.get_table(table_id_s)  # Make an API request.\n",
    "\n"
   ]
  },
  {
   "cell_type": "code",
   "execution_count": 28,
   "metadata": {},
   "outputs": [
    {
     "data": {
      "text/plain": [
       "Table(TableReference(DatasetReference('tdm-scenarios', 'tdm_scenarios_output'), 'segment_summary'))"
      ]
     },
     "metadata": {},
     "output_type": "display_data"
    }
   ],
   "source": [
    "display(table)"
   ]
  },
  {
   "cell_type": "code",
   "execution_count": 6,
   "metadata": {},
   "outputs": [],
   "source": [
    "# Still To Do:\n",
    "#   - Start seaborn plot comparison code (in new folder?)\n",
    "#   - Figure out how to \"append\" the tables I created to BigQuery!\n",
    "#       - append both id table and other tables -- bill is showing example"
   ]
  },
  {
   "cell_type": "code",
   "execution_count": null,
   "metadata": {},
   "outputs": [],
   "source": []
  }
 ],
 "metadata": {
  "kernelspec": {
   "display_name": "arcgis-py3-bigquery",
   "language": "python",
   "name": "python3"
  },
  "language_info": {
   "codemirror_mode": {
    "name": "ipython",
    "version": 3
   },
   "file_extension": ".py",
   "mimetype": "text/x-python",
   "name": "python",
   "nbconvert_exporter": "python",
   "pygments_lexer": "ipython3",
   "version": "3.9.13"
  },
  "orig_nbformat": 4,
  "vscode": {
   "interpreter": {
    "hash": "39b59de2f731b39f091c9de8c143172f125d18ae1801be30e7c5edf78e24c54f"
   }
  }
 },
 "nbformat": 4,
 "nbformat_minor": 2
}
